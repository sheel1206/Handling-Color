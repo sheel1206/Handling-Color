{
 "cells": [
  {
   "cell_type": "code",
   "execution_count": null,
   "source": [
    "!pip install torch~=1.7.0 torchvision pytorch-lightning"
   ],
   "outputs": [],
   "metadata": {
    "execution": {
     "iopub.execute_input": "2021-09-03T05:10:14.408290Z",
     "iopub.status.busy": "2021-09-03T05:10:14.407129Z",
     "iopub.status.idle": "2021-09-03T05:10:23.362903Z",
     "shell.execute_reply": "2021-09-03T05:10:23.362008Z",
     "shell.execute_reply.started": "2021-09-02T17:34:29.223641Z"
    },
    "id": "TtYlaMbW1mmw",
    "outputId": "e6ec13ae-8844-4a2c-c52c-94d9a4dce16c",
    "papermill": {
     "duration": 8.981413,
     "end_time": "2021-09-03T05:10:23.363097",
     "exception": false,
     "start_time": "2021-09-03T05:10:14.381684",
     "status": "completed"
    },
    "tags": []
   }
  },
  {
   "cell_type": "code",
   "execution_count": null,
   "source": [
    "!nvidia-smi"
   ],
   "outputs": [],
   "metadata": {
    "execution": {
     "iopub.execute_input": "2021-09-03T05:10:23.425294Z",
     "iopub.status.busy": "2021-09-03T05:10:23.424614Z",
     "iopub.status.idle": "2021-09-03T05:10:24.155095Z",
     "shell.execute_reply": "2021-09-03T05:10:24.154430Z",
     "shell.execute_reply.started": "2021-08-21T07:14:37.00566Z"
    },
    "id": "90oBhfc6cia4",
    "outputId": "4b95d78d-f459-4e84-95b8-863b18f53bf3",
    "papermill": {
     "duration": 0.765696,
     "end_time": "2021-09-03T05:10:24.155244",
     "exception": false,
     "start_time": "2021-09-03T05:10:23.389548",
     "status": "completed"
    },
    "tags": []
   }
  },
  {
   "cell_type": "code",
   "execution_count": null,
   "source": [
    "import torch\r\n",
    "torch.__version__"
   ],
   "outputs": [],
   "metadata": {
    "execution": {
     "iopub.execute_input": "2021-09-03T05:10:24.212399Z",
     "iopub.status.busy": "2021-09-03T05:10:24.211724Z",
     "iopub.status.idle": "2021-09-03T05:10:25.571632Z",
     "shell.execute_reply": "2021-09-03T05:10:25.571063Z",
     "shell.execute_reply.started": "2021-09-02T18:38:55.40588Z"
    },
    "id": "LXgRk0JW1tFj",
    "outputId": "5f7b4246-3410-4807-c87c-8c877631a297",
    "papermill": {
     "duration": 1.390324,
     "end_time": "2021-09-03T05:10:25.571773",
     "exception": false,
     "start_time": "2021-09-03T05:10:24.181449",
     "status": "completed"
    },
    "tags": []
   }
  },
  {
   "cell_type": "code",
   "execution_count": 4,
   "source": [
    "from torchvision.models import resnet18\r\n",
    "from torch import nn\r\n",
    "from torch.utils.data import DataLoader"
   ],
   "outputs": [],
   "metadata": {
    "execution": {
     "iopub.execute_input": "2021-09-03T05:10:25.629401Z",
     "iopub.status.busy": "2021-09-03T05:10:25.628605Z",
     "iopub.status.idle": "2021-09-03T05:10:25.821705Z",
     "shell.execute_reply": "2021-09-03T05:10:25.822185Z",
     "shell.execute_reply.started": "2021-09-02T18:38:55.413037Z"
    },
    "id": "ZQ9v3r3p110D",
    "papermill": {
     "duration": 0.224277,
     "end_time": "2021-09-03T05:10:25.822376",
     "exception": false,
     "start_time": "2021-09-03T05:10:25.598099",
     "status": "completed"
    },
    "tags": []
   }
  },
  {
   "cell_type": "code",
   "execution_count": 6,
   "source": [
    "import torchvision\r\n",
    "from torchvision import datasets \r\n",
    "from torchvision.transforms import ToTensor"
   ],
   "outputs": [],
   "metadata": {
    "execution": {
     "iopub.execute_input": "2021-09-03T05:10:25.939311Z",
     "iopub.status.busy": "2021-09-03T05:10:25.938623Z",
     "iopub.status.idle": "2021-09-03T05:10:25.941421Z",
     "shell.execute_reply": "2021-09-03T05:10:25.941872Z",
     "shell.execute_reply.started": "2021-09-02T18:38:55.426263Z"
    },
    "id": "jmaFWBH22GYc",
    "papermill": {
     "duration": 0.033757,
     "end_time": "2021-09-03T05:10:25.942074",
     "exception": false,
     "start_time": "2021-09-03T05:10:25.908317",
     "status": "completed"
    },
    "tags": []
   }
  },
  {
   "cell_type": "code",
   "execution_count": 7,
   "source": [
    "path_to_train ='../input/bwcolor/MNIST-Data-BW&Color/Train'\r\n",
    "path_to_test ='../input/bwcolor/MNIST-Data-BW&Color/Val'"
   ],
   "outputs": [],
   "metadata": {
    "execution": {
     "iopub.execute_input": "2021-09-03T05:10:25.999874Z",
     "iopub.status.busy": "2021-09-03T05:10:25.999169Z",
     "iopub.status.idle": "2021-09-03T05:10:26.002331Z",
     "shell.execute_reply": "2021-09-03T05:10:26.001687Z",
     "shell.execute_reply.started": "2021-09-02T18:38:56.492415Z"
    },
    "papermill": {
     "duration": 0.034081,
     "end_time": "2021-09-03T05:10:26.002467",
     "exception": false,
     "start_time": "2021-09-03T05:10:25.968386",
     "status": "completed"
    },
    "tags": []
   }
  },
  {
   "cell_type": "code",
   "execution_count": 8,
   "source": [
    "train_classifier_transforms = torchvision.transforms.Compose([\r\n",
    "    torchvision.transforms.ToTensor(),\r\n",
    "    torchvision.transforms.Normalize(\r\n",
    "           mean=[0.485, 0.456, 0.406],\r\n",
    "            std=[0.229, 0.224, 0.225]\r\n",
    "        )\r\n",
    "])\r\n",
    "test_transforms = torchvision.transforms.Compose([\r\n",
    "    torchvision.transforms.ToTensor(),\r\n",
    "    torchvision.transforms.Normalize(\r\n",
    "           mean=[0.485, 0.456, 0.406],\r\n",
    "            std=[0.229, 0.224, 0.225]\r\n",
    "        )\r\n",
    "])"
   ],
   "outputs": [],
   "metadata": {
    "execution": {
     "iopub.execute_input": "2021-09-03T05:10:26.063363Z",
     "iopub.status.busy": "2021-09-03T05:10:26.062686Z",
     "iopub.status.idle": "2021-09-03T05:10:26.065873Z",
     "shell.execute_reply": "2021-09-03T05:10:26.065385Z",
     "shell.execute_reply.started": "2021-09-02T18:38:57.921451Z"
    },
    "papermill": {
     "duration": 0.03605,
     "end_time": "2021-09-03T05:10:26.066029",
     "exception": false,
     "start_time": "2021-09-03T05:10:26.029979",
     "status": "completed"
    },
    "tags": []
   }
  },
  {
   "cell_type": "code",
   "execution_count": 9,
   "source": [
    "train_set = datasets.ImageFolder(root=path_to_train, transform= train_classifier_transforms)\r\n",
    "test_set = datasets.ImageFolder(root= path_to_test , transform = test_transforms)"
   ],
   "outputs": [],
   "metadata": {
    "execution": {
     "iopub.execute_input": "2021-09-03T05:10:26.123125Z",
     "iopub.status.busy": "2021-09-03T05:10:26.122448Z",
     "iopub.status.idle": "2021-09-03T05:11:50.159771Z",
     "shell.execute_reply": "2021-09-03T05:11:50.158863Z",
     "shell.execute_reply.started": "2021-09-02T18:38:58.888566Z"
    },
    "papermill": {
     "duration": 84.067891,
     "end_time": "2021-09-03T05:11:50.160153",
     "exception": false,
     "start_time": "2021-09-03T05:10:26.092262",
     "status": "completed"
    },
    "tags": []
   }
  },
  {
   "cell_type": "code",
   "execution_count": 10,
   "source": [
    "train_dl = DataLoader(train_set, batch_size=512, shuffle=True)\r\n",
    "test_dl = DataLoader(test_set, batch_size=512)"
   ],
   "outputs": [],
   "metadata": {
    "execution": {
     "iopub.execute_input": "2021-09-03T05:11:50.224313Z",
     "iopub.status.busy": "2021-09-03T05:11:50.223175Z",
     "iopub.status.idle": "2021-09-03T05:11:50.226644Z",
     "shell.execute_reply": "2021-09-03T05:11:50.225977Z",
     "shell.execute_reply.started": "2021-09-02T18:40:42.305078Z"
    },
    "id": "D82fQg67e1mh",
    "papermill": {
     "duration": 0.038041,
     "end_time": "2021-09-03T05:11:50.226815",
     "exception": false,
     "start_time": "2021-09-03T05:11:50.188774",
     "status": "completed"
    },
    "tags": []
   }
  },
  {
   "cell_type": "code",
   "execution_count": 11,
   "source": [
    "import pytorch_lightning as pl\r\n",
    "from pytorch_lightning.core.decorators import auto_move_data"
   ],
   "outputs": [],
   "metadata": {
    "execution": {
     "iopub.execute_input": "2021-09-03T05:11:50.289621Z",
     "iopub.status.busy": "2021-09-03T05:11:50.288824Z",
     "iopub.status.idle": "2021-09-03T05:11:52.104102Z",
     "shell.execute_reply": "2021-09-03T05:11:52.103429Z",
     "shell.execute_reply.started": "2021-09-02T18:09:06.418238Z"
    },
    "id": "bgoXQLr93_VA",
    "papermill": {
     "duration": 1.850061,
     "end_time": "2021-09-03T05:11:52.104272",
     "exception": false,
     "start_time": "2021-09-03T05:11:50.254211",
     "status": "completed"
    },
    "tags": []
   }
  },
  {
   "cell_type": "code",
   "execution_count": null,
   "source": [
    "class ResNetMNIST(pl.LightningModule):\r\n",
    "  def __init__(self):\r\n",
    "    super().__init__()\r\n",
    "    self.model = resnet18(num_classes=10)\r\n",
    "    self.loss = nn.CrossEntropyLoss()\r\n",
    "\r\n",
    "  @auto_move_data\r\n",
    "  def forward(self, x):\r\n",
    "    return self.model(x)\r\n",
    "  \r\n",
    "  def training_step(self, batch, batch_no):\r\n",
    "    x, y = batch\r\n",
    "    logits = self(x)\r\n",
    "    loss = self.loss(logits, y)\r\n",
    "    return loss\r\n",
    "  \r\n",
    "  def configure_optimizers(self):\r\n",
    "    return torch.optim.RMSprop(self.parameters(), lr=0.005)"
   ],
   "outputs": [],
   "metadata": {
    "execution": {
     "iopub.execute_input": "2021-09-03T05:11:52.165488Z",
     "iopub.status.busy": "2021-09-03T05:11:52.164796Z",
     "iopub.status.idle": "2021-09-03T05:11:52.170170Z",
     "shell.execute_reply": "2021-09-03T05:11:52.170679Z",
     "shell.execute_reply.started": "2021-09-02T18:09:07.16143Z"
    },
    "id": "x3i-iqtudjJh",
    "papermill": {
     "duration": 0.04007,
     "end_time": "2021-09-03T05:11:52.170854",
     "exception": false,
     "start_time": "2021-09-03T05:11:52.130784",
     "status": "completed"
    },
    "tags": []
   }
  },
  {
   "cell_type": "code",
   "execution_count": 13,
   "source": [
    "model = ResNetMNIST()"
   ],
   "outputs": [],
   "metadata": {
    "execution": {
     "iopub.execute_input": "2021-09-03T05:11:52.227740Z",
     "iopub.status.busy": "2021-09-03T05:11:52.226704Z",
     "iopub.status.idle": "2021-09-03T05:11:52.522656Z",
     "shell.execute_reply": "2021-09-03T05:11:52.522126Z",
     "shell.execute_reply.started": "2021-09-02T18:09:08.82541Z"
    },
    "id": "_j-BkUAafEYb",
    "papermill": {
     "duration": 0.325298,
     "end_time": "2021-09-03T05:11:52.522803",
     "exception": false,
     "start_time": "2021-09-03T05:11:52.197505",
     "status": "completed"
    },
    "tags": []
   }
  },
  {
   "cell_type": "code",
   "execution_count": null,
   "source": [
    "trainer = pl.Trainer(\r\n",
    "    gpus=0,\r\n",
    "    max_epochs=1,\r\n",
    "    progress_bar_refresh_rate=20\r\n",
    ")\r\n",
    "trainer.fit(model, train_dl)"
   ],
   "outputs": [],
   "metadata": {
    "execution": {
     "iopub.execute_input": "2021-09-03T05:11:52.583128Z",
     "iopub.status.busy": "2021-09-03T05:11:52.582381Z",
     "iopub.status.idle": "2021-09-03T05:22:25.130782Z",
     "shell.execute_reply": "2021-09-03T05:22:25.131372Z",
     "shell.execute_reply.started": "2021-09-02T18:09:10.305236Z"
    },
    "id": "bPIS9rYcdX4N",
    "outputId": "b059ff2a-9f13-4623-98fb-8b4e9dc2da27",
    "papermill": {
     "duration": 632.581989,
     "end_time": "2021-09-03T05:22:25.131565",
     "exception": false,
     "start_time": "2021-09-03T05:11:52.549576",
     "status": "completed"
    },
    "tags": []
   }
  },
  {
   "cell_type": "code",
   "execution_count": 15,
   "source": [
    "trainer.save_checkpoint(\"resnet18_mnist.pt\")"
   ],
   "outputs": [],
   "metadata": {
    "execution": {
     "iopub.execute_input": "2021-09-03T05:22:25.189635Z",
     "iopub.status.busy": "2021-09-03T05:22:25.189047Z",
     "iopub.status.idle": "2021-09-03T05:22:25.412581Z",
     "shell.execute_reply": "2021-09-03T05:22:25.413174Z",
     "shell.execute_reply.started": "2021-09-02T18:10:03.904591Z"
    },
    "id": "T67whYQukIOk",
    "papermill": {
     "duration": 0.254114,
     "end_time": "2021-09-03T05:22:25.413353",
     "exception": false,
     "start_time": "2021-09-03T05:22:25.159239",
     "status": "completed"
    },
    "tags": []
   }
  },
  {
   "cell_type": "code",
   "execution_count": 16,
   "source": [
    "def get_prediction(x, model: pl.LightningModule):\r\n",
    "  model.freeze() # prepares model for predicting\r\n",
    "  probabilities = torch.softmax(model(x), dim=1)\r\n",
    "  predicted_class = torch.argmax(probabilities, dim=1)\r\n",
    "  return predicted_class, probabilities"
   ],
   "outputs": [],
   "metadata": {
    "execution": {
     "iopub.execute_input": "2021-09-03T05:22:25.471610Z",
     "iopub.status.busy": "2021-09-03T05:22:25.471002Z",
     "iopub.status.idle": "2021-09-03T05:22:25.475386Z",
     "shell.execute_reply": "2021-09-03T05:22:25.475987Z",
     "shell.execute_reply.started": "2021-09-02T18:10:04.18846Z"
    },
    "id": "p30X4Ivo4Htv",
    "papermill": {
     "duration": 0.035295,
     "end_time": "2021-09-03T05:22:25.476159",
     "exception": false,
     "start_time": "2021-09-03T05:22:25.440864",
     "status": "completed"
    },
    "tags": []
   }
  },
  {
   "cell_type": "code",
   "execution_count": 17,
   "source": [
    "from tqdm.autonotebook import tqdm"
   ],
   "outputs": [],
   "metadata": {
    "execution": {
     "iopub.execute_input": "2021-09-03T05:22:25.533762Z",
     "iopub.status.busy": "2021-09-03T05:22:25.533142Z",
     "iopub.status.idle": "2021-09-03T05:22:25.537191Z",
     "shell.execute_reply": "2021-09-03T05:22:25.537722Z",
     "shell.execute_reply.started": "2021-09-02T18:10:04.196399Z"
    },
    "id": "FS_CQYQ1iQdJ",
    "papermill": {
     "duration": 0.034123,
     "end_time": "2021-09-03T05:22:25.537909",
     "exception": false,
     "start_time": "2021-09-03T05:22:25.503786",
     "status": "completed"
    },
    "tags": []
   }
  },
  {
   "cell_type": "code",
   "execution_count": 18,
   "source": [
    "inference_model = ResNetMNIST.load_from_checkpoint(\"./resnet18_mnist.pt\")"
   ],
   "outputs": [],
   "metadata": {
    "execution": {
     "iopub.execute_input": "2021-09-03T05:22:25.597016Z",
     "iopub.status.busy": "2021-09-03T05:22:25.596343Z",
     "iopub.status.idle": "2021-09-03T05:22:25.854788Z",
     "shell.execute_reply": "2021-09-03T05:22:25.854247Z",
     "shell.execute_reply.started": "2021-09-02T18:10:04.204756Z"
    },
    "id": "GEbp-EItkM3M",
    "papermill": {
     "duration": 0.289552,
     "end_time": "2021-09-03T05:22:25.854951",
     "exception": false,
     "start_time": "2021-09-03T05:22:25.565399",
     "status": "completed"
    },
    "tags": []
   }
  },
  {
   "cell_type": "code",
   "execution_count": 19,
   "source": [
    "true_y, pred_y = [], []\r\n",
    "for batch in tqdm(iter(test_dl), total=len(test_dl)):\r\n",
    "  x, y = batch\r\n",
    "  true_y.extend(y)\r\n",
    "  preds, probs = get_prediction(x, inference_model)\r\n",
    "  pred_y.extend(preds.cpu())"
   ],
   "outputs": [
    {
     "output_type": "display_data",
     "data": {
      "application/vnd.jupyter.widget-view+json": {
       "model_id": "0bacd909ec484930ab47242ebc068258",
       "version_major": 2,
       "version_minor": 0
      },
      "text/plain": [
       "  0%|          | 0/20 [00:00<?, ?it/s]"
      ]
     },
     "metadata": {}
    }
   ],
   "metadata": {
    "execution": {
     "iopub.execute_input": "2021-09-03T05:22:25.915994Z",
     "iopub.status.busy": "2021-09-03T05:22:25.915348Z",
     "iopub.status.idle": "2021-09-03T05:23:31.358077Z",
     "shell.execute_reply": "2021-09-03T05:23:31.357521Z",
     "shell.execute_reply.started": "2021-09-02T18:10:04.461139Z"
    },
    "id": "vWPCxLiafmLb",
    "outputId": "5c7ed97b-2df7-489e-9acb-2661504f612e",
    "papermill": {
     "duration": 65.475595,
     "end_time": "2021-09-03T05:23:31.358229",
     "exception": false,
     "start_time": "2021-09-03T05:22:25.882634",
     "status": "completed"
    },
    "tags": []
   }
  },
  {
   "cell_type": "code",
   "execution_count": 20,
   "source": [
    "from sklearn.metrics import classification_report"
   ],
   "outputs": [],
   "metadata": {
    "execution": {
     "iopub.execute_input": "2021-09-03T05:23:31.418867Z",
     "iopub.status.busy": "2021-09-03T05:23:31.418254Z",
     "iopub.status.idle": "2021-09-03T05:23:32.150137Z",
     "shell.execute_reply": "2021-09-03T05:23:32.149455Z",
     "shell.execute_reply.started": "2021-09-02T18:11:08.634844Z"
    },
    "id": "1EmdZjUfiJhj",
    "papermill": {
     "duration": 0.763863,
     "end_time": "2021-09-03T05:23:32.150314",
     "exception": false,
     "start_time": "2021-09-03T05:23:31.386451",
     "status": "completed"
    },
    "tags": []
   }
  },
  {
   "cell_type": "code",
   "execution_count": 21,
   "source": [
    "print(classification_report(true_y, pred_y, digits=2))"
   ],
   "outputs": [
    {
     "output_type": "stream",
     "name": "stdout",
     "text": [
      "              precision    recall  f1-score   support\n",
      "\n",
      "           0       0.97      0.55      0.70       980\n",
      "           1       0.33      1.00      0.49      1135\n",
      "           2       0.95      0.74      0.83      1032\n",
      "           3       0.98      0.63      0.76      1010\n",
      "           4       0.37      0.60      0.46       982\n",
      "           5       0.97      0.70      0.82       892\n",
      "           6       0.62      0.71      0.66       958\n",
      "           7       0.97      0.56      0.71      1028\n",
      "           8       0.90      0.53      0.67       974\n",
      "           9       0.90      0.01      0.02      1009\n",
      "\n",
      "    accuracy                           0.61     10000\n",
      "   macro avg       0.79      0.60      0.61     10000\n",
      "weighted avg       0.79      0.61      0.61     10000\n",
      "\n"
     ]
    }
   ],
   "metadata": {
    "execution": {
     "iopub.execute_input": "2021-09-03T05:23:32.229566Z",
     "iopub.status.busy": "2021-09-03T05:23:32.224314Z",
     "iopub.status.idle": "2021-09-03T05:23:32.580024Z",
     "shell.execute_reply": "2021-09-03T05:23:32.580534Z",
     "shell.execute_reply.started": "2021-09-02T18:11:08.641339Z"
    },
    "id": "-Oj2Mh8fifhB",
    "outputId": "2d3e9861-0917-4106-af9e-1edea8a18ac2",
    "papermill": {
     "duration": 0.400845,
     "end_time": "2021-09-03T05:23:32.580754",
     "exception": false,
     "start_time": "2021-09-03T05:23:32.179909",
     "status": "completed"
    },
    "tags": []
   }
  }
 ],
 "metadata": {
  "kernelspec": {
   "display_name": "Python 3",
   "language": "python",
   "name": "python3"
  },
  "language_info": {
   "codemirror_mode": {
    "name": "ipython",
    "version": 3
   },
   "file_extension": ".py",
   "mimetype": "text/x-python",
   "name": "python",
   "nbconvert_exporter": "python",
   "pygments_lexer": "ipython3",
   "version": "3.7.10"
  },
  "papermill": {
   "default_parameters": {},
   "duration": 812.067544,
   "end_time": "2021-09-03T05:23:37.493518",
   "environment_variables": {},
   "exception": null,
   "input_path": "__notebook__.ipynb",
   "output_path": "__notebook__.ipynb",
   "parameters": {},
   "start_time": "2021-09-03T05:10:05.425974",
   "version": "2.3.3"
  },
  "widgets": {
   "application/vnd.jupyter.widget-state+json": {
    "state": {
     "0122368b63e6472c9a1f543ea86387a4": {
      "model_module": "@jupyter-widgets/base",
      "model_module_version": "1.2.0",
      "model_name": "LayoutModel",
      "state": {
       "_model_module": "@jupyter-widgets/base",
       "_model_module_version": "1.2.0",
       "_model_name": "LayoutModel",
       "_view_count": null,
       "_view_module": "@jupyter-widgets/base",
       "_view_module_version": "1.2.0",
       "_view_name": "LayoutView",
       "align_content": null,
       "align_items": null,
       "align_self": null,
       "border": null,
       "bottom": null,
       "display": null,
       "flex": "2",
       "flex_flow": null,
       "grid_area": null,
       "grid_auto_columns": null,
       "grid_auto_flow": null,
       "grid_auto_rows": null,
       "grid_column": null,
       "grid_gap": null,
       "grid_row": null,
       "grid_template_areas": null,
       "grid_template_columns": null,
       "grid_template_rows": null,
       "height": null,
       "justify_content": null,
       "justify_items": null,
       "left": null,
       "margin": null,
       "max_height": null,
       "max_width": null,
       "min_height": null,
       "min_width": null,
       "object_fit": null,
       "object_position": null,
       "order": null,
       "overflow": null,
       "overflow_x": null,
       "overflow_y": null,
       "padding": null,
       "right": null,
       "top": null,
       "visibility": null,
       "width": null
      }
     },
     "0bacd909ec484930ab47242ebc068258": {
      "model_module": "@jupyter-widgets/controls",
      "model_module_version": "1.5.0",
      "model_name": "HBoxModel",
      "state": {
       "_dom_classes": [],
       "_model_module": "@jupyter-widgets/controls",
       "_model_module_version": "1.5.0",
       "_model_name": "HBoxModel",
       "_view_count": null,
       "_view_module": "@jupyter-widgets/controls",
       "_view_module_version": "1.5.0",
       "_view_name": "HBoxView",
       "box_style": "",
       "children": [
        "IPY_MODEL_5acc9fcc60eb4bffbfb68f532896c3a0",
        "IPY_MODEL_4c854f2895564bedba597bc717bf9494",
        "IPY_MODEL_73821c9890a9421897c80917d1627f73"
       ],
       "layout": "IPY_MODEL_b61aaa1ce19c4d6f9ae3c5053ceb1e1a"
      }
     },
     "144781e1ccc84b4d822e1a7a15b70c87": {
      "model_module": "@jupyter-widgets/controls",
      "model_module_version": "1.5.0",
      "model_name": "ProgressStyleModel",
      "state": {
       "_model_module": "@jupyter-widgets/controls",
       "_model_module_version": "1.5.0",
       "_model_name": "ProgressStyleModel",
       "_view_count": null,
       "_view_module": "@jupyter-widgets/base",
       "_view_module_version": "1.2.0",
       "_view_name": "StyleView",
       "bar_color": null,
       "description_width": ""
      }
     },
     "29c2c36cb4654cdda98fb23843f6b093": {
      "model_module": "@jupyter-widgets/controls",
      "model_module_version": "1.5.0",
      "model_name": "FloatProgressModel",
      "state": {
       "_dom_classes": [],
       "_model_module": "@jupyter-widgets/controls",
       "_model_module_version": "1.5.0",
       "_model_name": "FloatProgressModel",
       "_view_count": null,
       "_view_module": "@jupyter-widgets/controls",
       "_view_module_version": "1.5.0",
       "_view_name": "ProgressView",
       "bar_style": "success",
       "description": "",
       "description_tooltip": null,
       "layout": "IPY_MODEL_0122368b63e6472c9a1f543ea86387a4",
       "max": 118,
       "min": 0,
       "orientation": "horizontal",
       "style": "IPY_MODEL_144781e1ccc84b4d822e1a7a15b70c87",
       "value": 118
      }
     },
     "308efc4bfa1a414794c660400a33df5a": {
      "model_module": "@jupyter-widgets/controls",
      "model_module_version": "1.5.0",
      "model_name": "DescriptionStyleModel",
      "state": {
       "_model_module": "@jupyter-widgets/controls",
       "_model_module_version": "1.5.0",
       "_model_name": "DescriptionStyleModel",
       "_view_count": null,
       "_view_module": "@jupyter-widgets/base",
       "_view_module_version": "1.2.0",
       "_view_name": "StyleView",
       "description_width": ""
      }
     },
     "4c854f2895564bedba597bc717bf9494": {
      "model_module": "@jupyter-widgets/controls",
      "model_module_version": "1.5.0",
      "model_name": "FloatProgressModel",
      "state": {
       "_dom_classes": [],
       "_model_module": "@jupyter-widgets/controls",
       "_model_module_version": "1.5.0",
       "_model_name": "FloatProgressModel",
       "_view_count": null,
       "_view_module": "@jupyter-widgets/controls",
       "_view_module_version": "1.5.0",
       "_view_name": "ProgressView",
       "bar_style": "success",
       "description": "",
       "description_tooltip": null,
       "layout": "IPY_MODEL_7be12d2b8c114ae39036316c1234dcd9",
       "max": 20,
       "min": 0,
       "orientation": "horizontal",
       "style": "IPY_MODEL_51b1abf9fb3f4fb091a0022a408d886a",
       "value": 20
      }
     },
     "51b1abf9fb3f4fb091a0022a408d886a": {
      "model_module": "@jupyter-widgets/controls",
      "model_module_version": "1.5.0",
      "model_name": "ProgressStyleModel",
      "state": {
       "_model_module": "@jupyter-widgets/controls",
       "_model_module_version": "1.5.0",
       "_model_name": "ProgressStyleModel",
       "_view_count": null,
       "_view_module": "@jupyter-widgets/base",
       "_view_module_version": "1.2.0",
       "_view_name": "StyleView",
       "bar_color": null,
       "description_width": ""
      }
     },
     "5acc9fcc60eb4bffbfb68f532896c3a0": {
      "model_module": "@jupyter-widgets/controls",
      "model_module_version": "1.5.0",
      "model_name": "HTMLModel",
      "state": {
       "_dom_classes": [],
       "_model_module": "@jupyter-widgets/controls",
       "_model_module_version": "1.5.0",
       "_model_name": "HTMLModel",
       "_view_count": null,
       "_view_module": "@jupyter-widgets/controls",
       "_view_module_version": "1.5.0",
       "_view_name": "HTMLView",
       "description": "",
       "description_tooltip": null,
       "layout": "IPY_MODEL_612d8bcc98cf47cda02b407279b03e7b",
       "placeholder": "​",
       "style": "IPY_MODEL_308efc4bfa1a414794c660400a33df5a",
       "value": "100%"
      }
     },
     "612d8bcc98cf47cda02b407279b03e7b": {
      "model_module": "@jupyter-widgets/base",
      "model_module_version": "1.2.0",
      "model_name": "LayoutModel",
      "state": {
       "_model_module": "@jupyter-widgets/base",
       "_model_module_version": "1.2.0",
       "_model_name": "LayoutModel",
       "_view_count": null,
       "_view_module": "@jupyter-widgets/base",
       "_view_module_version": "1.2.0",
       "_view_name": "LayoutView",
       "align_content": null,
       "align_items": null,
       "align_self": null,
       "border": null,
       "bottom": null,
       "display": null,
       "flex": null,
       "flex_flow": null,
       "grid_area": null,
       "grid_auto_columns": null,
       "grid_auto_flow": null,
       "grid_auto_rows": null,
       "grid_column": null,
       "grid_gap": null,
       "grid_row": null,
       "grid_template_areas": null,
       "grid_template_columns": null,
       "grid_template_rows": null,
       "height": null,
       "justify_content": null,
       "justify_items": null,
       "left": null,
       "margin": null,
       "max_height": null,
       "max_width": null,
       "min_height": null,
       "min_width": null,
       "object_fit": null,
       "object_position": null,
       "order": null,
       "overflow": null,
       "overflow_x": null,
       "overflow_y": null,
       "padding": null,
       "right": null,
       "top": null,
       "visibility": null,
       "width": null
      }
     },
     "73821c9890a9421897c80917d1627f73": {
      "model_module": "@jupyter-widgets/controls",
      "model_module_version": "1.5.0",
      "model_name": "HTMLModel",
      "state": {
       "_dom_classes": [],
       "_model_module": "@jupyter-widgets/controls",
       "_model_module_version": "1.5.0",
       "_model_name": "HTMLModel",
       "_view_count": null,
       "_view_module": "@jupyter-widgets/controls",
       "_view_module_version": "1.5.0",
       "_view_name": "HTMLView",
       "description": "",
       "description_tooltip": null,
       "layout": "IPY_MODEL_a48cd57f11dd471d950bd8f9cc868d3c",
       "placeholder": "​",
       "style": "IPY_MODEL_88cc49f8f3d74c0bad91a3b9fc303f1f",
       "value": " 20/20 [01:05&lt;00:00,  2.89s/it]"
      }
     },
     "7be12d2b8c114ae39036316c1234dcd9": {
      "model_module": "@jupyter-widgets/base",
      "model_module_version": "1.2.0",
      "model_name": "LayoutModel",
      "state": {
       "_model_module": "@jupyter-widgets/base",
       "_model_module_version": "1.2.0",
       "_model_name": "LayoutModel",
       "_view_count": null,
       "_view_module": "@jupyter-widgets/base",
       "_view_module_version": "1.2.0",
       "_view_name": "LayoutView",
       "align_content": null,
       "align_items": null,
       "align_self": null,
       "border": null,
       "bottom": null,
       "display": null,
       "flex": null,
       "flex_flow": null,
       "grid_area": null,
       "grid_auto_columns": null,
       "grid_auto_flow": null,
       "grid_auto_rows": null,
       "grid_column": null,
       "grid_gap": null,
       "grid_row": null,
       "grid_template_areas": null,
       "grid_template_columns": null,
       "grid_template_rows": null,
       "height": null,
       "justify_content": null,
       "justify_items": null,
       "left": null,
       "margin": null,
       "max_height": null,
       "max_width": null,
       "min_height": null,
       "min_width": null,
       "object_fit": null,
       "object_position": null,
       "order": null,
       "overflow": null,
       "overflow_x": null,
       "overflow_y": null,
       "padding": null,
       "right": null,
       "top": null,
       "visibility": null,
       "width": null
      }
     },
     "7ddfd41045eb4656b883f3eaf5ca7329": {
      "model_module": "@jupyter-widgets/base",
      "model_module_version": "1.2.0",
      "model_name": "LayoutModel",
      "state": {
       "_model_module": "@jupyter-widgets/base",
       "_model_module_version": "1.2.0",
       "_model_name": "LayoutModel",
       "_view_count": null,
       "_view_module": "@jupyter-widgets/base",
       "_view_module_version": "1.2.0",
       "_view_name": "LayoutView",
       "align_content": null,
       "align_items": null,
       "align_self": null,
       "border": null,
       "bottom": null,
       "display": null,
       "flex": null,
       "flex_flow": null,
       "grid_area": null,
       "grid_auto_columns": null,
       "grid_auto_flow": null,
       "grid_auto_rows": null,
       "grid_column": null,
       "grid_gap": null,
       "grid_row": null,
       "grid_template_areas": null,
       "grid_template_columns": null,
       "grid_template_rows": null,
       "height": null,
       "justify_content": null,
       "justify_items": null,
       "left": null,
       "margin": null,
       "max_height": null,
       "max_width": null,
       "min_height": null,
       "min_width": null,
       "object_fit": null,
       "object_position": null,
       "order": null,
       "overflow": null,
       "overflow_x": null,
       "overflow_y": null,
       "padding": null,
       "right": null,
       "top": null,
       "visibility": null,
       "width": null
      }
     },
     "88cc49f8f3d74c0bad91a3b9fc303f1f": {
      "model_module": "@jupyter-widgets/controls",
      "model_module_version": "1.5.0",
      "model_name": "DescriptionStyleModel",
      "state": {
       "_model_module": "@jupyter-widgets/controls",
       "_model_module_version": "1.5.0",
       "_model_name": "DescriptionStyleModel",
       "_view_count": null,
       "_view_module": "@jupyter-widgets/base",
       "_view_module_version": "1.2.0",
       "_view_name": "StyleView",
       "description_width": ""
      }
     },
     "98f7901f5f3a440f8b483e33c3c7b783": {
      "model_module": "@jupyter-widgets/controls",
      "model_module_version": "1.5.0",
      "model_name": "HTMLModel",
      "state": {
       "_dom_classes": [],
       "_model_module": "@jupyter-widgets/controls",
       "_model_module_version": "1.5.0",
       "_model_name": "HTMLModel",
       "_view_count": null,
       "_view_module": "@jupyter-widgets/controls",
       "_view_module_version": "1.5.0",
       "_view_name": "HTMLView",
       "description": "",
       "description_tooltip": null,
       "layout": "IPY_MODEL_7ddfd41045eb4656b883f3eaf5ca7329",
       "placeholder": "​",
       "style": "IPY_MODEL_e206489a07244648972e5cf65851091e",
       "value": "Epoch 0: 100%"
      }
     },
     "9a949ffcf80d43e6beb84bf7bb20ac04": {
      "model_module": "@jupyter-widgets/controls",
      "model_module_version": "1.5.0",
      "model_name": "HBoxModel",
      "state": {
       "_dom_classes": [],
       "_model_module": "@jupyter-widgets/controls",
       "_model_module_version": "1.5.0",
       "_model_name": "HBoxModel",
       "_view_count": null,
       "_view_module": "@jupyter-widgets/controls",
       "_view_module_version": "1.5.0",
       "_view_name": "HBoxView",
       "box_style": "",
       "children": [
        "IPY_MODEL_98f7901f5f3a440f8b483e33c3c7b783",
        "IPY_MODEL_29c2c36cb4654cdda98fb23843f6b093",
        "IPY_MODEL_f2811a3df03a4e77ae153a3a55cd9719"
       ],
       "layout": "IPY_MODEL_c7514b7ab8ef468fbed8a97b2a18585f"
      }
     },
     "a48cd57f11dd471d950bd8f9cc868d3c": {
      "model_module": "@jupyter-widgets/base",
      "model_module_version": "1.2.0",
      "model_name": "LayoutModel",
      "state": {
       "_model_module": "@jupyter-widgets/base",
       "_model_module_version": "1.2.0",
       "_model_name": "LayoutModel",
       "_view_count": null,
       "_view_module": "@jupyter-widgets/base",
       "_view_module_version": "1.2.0",
       "_view_name": "LayoutView",
       "align_content": null,
       "align_items": null,
       "align_self": null,
       "border": null,
       "bottom": null,
       "display": null,
       "flex": null,
       "flex_flow": null,
       "grid_area": null,
       "grid_auto_columns": null,
       "grid_auto_flow": null,
       "grid_auto_rows": null,
       "grid_column": null,
       "grid_gap": null,
       "grid_row": null,
       "grid_template_areas": null,
       "grid_template_columns": null,
       "grid_template_rows": null,
       "height": null,
       "justify_content": null,
       "justify_items": null,
       "left": null,
       "margin": null,
       "max_height": null,
       "max_width": null,
       "min_height": null,
       "min_width": null,
       "object_fit": null,
       "object_position": null,
       "order": null,
       "overflow": null,
       "overflow_x": null,
       "overflow_y": null,
       "padding": null,
       "right": null,
       "top": null,
       "visibility": null,
       "width": null
      }
     },
     "b10f97285c1d41e4bffa4ce4059e0776": {
      "model_module": "@jupyter-widgets/controls",
      "model_module_version": "1.5.0",
      "model_name": "DescriptionStyleModel",
      "state": {
       "_model_module": "@jupyter-widgets/controls",
       "_model_module_version": "1.5.0",
       "_model_name": "DescriptionStyleModel",
       "_view_count": null,
       "_view_module": "@jupyter-widgets/base",
       "_view_module_version": "1.2.0",
       "_view_name": "StyleView",
       "description_width": ""
      }
     },
     "b61aaa1ce19c4d6f9ae3c5053ceb1e1a": {
      "model_module": "@jupyter-widgets/base",
      "model_module_version": "1.2.0",
      "model_name": "LayoutModel",
      "state": {
       "_model_module": "@jupyter-widgets/base",
       "_model_module_version": "1.2.0",
       "_model_name": "LayoutModel",
       "_view_count": null,
       "_view_module": "@jupyter-widgets/base",
       "_view_module_version": "1.2.0",
       "_view_name": "LayoutView",
       "align_content": null,
       "align_items": null,
       "align_self": null,
       "border": null,
       "bottom": null,
       "display": null,
       "flex": null,
       "flex_flow": null,
       "grid_area": null,
       "grid_auto_columns": null,
       "grid_auto_flow": null,
       "grid_auto_rows": null,
       "grid_column": null,
       "grid_gap": null,
       "grid_row": null,
       "grid_template_areas": null,
       "grid_template_columns": null,
       "grid_template_rows": null,
       "height": null,
       "justify_content": null,
       "justify_items": null,
       "left": null,
       "margin": null,
       "max_height": null,
       "max_width": null,
       "min_height": null,
       "min_width": null,
       "object_fit": null,
       "object_position": null,
       "order": null,
       "overflow": null,
       "overflow_x": null,
       "overflow_y": null,
       "padding": null,
       "right": null,
       "top": null,
       "visibility": null,
       "width": null
      }
     },
     "c7514b7ab8ef468fbed8a97b2a18585f": {
      "model_module": "@jupyter-widgets/base",
      "model_module_version": "1.2.0",
      "model_name": "LayoutModel",
      "state": {
       "_model_module": "@jupyter-widgets/base",
       "_model_module_version": "1.2.0",
       "_model_name": "LayoutModel",
       "_view_count": null,
       "_view_module": "@jupyter-widgets/base",
       "_view_module_version": "1.2.0",
       "_view_name": "LayoutView",
       "align_content": null,
       "align_items": null,
       "align_self": null,
       "border": null,
       "bottom": null,
       "display": "inline-flex",
       "flex": null,
       "flex_flow": "row wrap",
       "grid_area": null,
       "grid_auto_columns": null,
       "grid_auto_flow": null,
       "grid_auto_rows": null,
       "grid_column": null,
       "grid_gap": null,
       "grid_row": null,
       "grid_template_areas": null,
       "grid_template_columns": null,
       "grid_template_rows": null,
       "height": null,
       "justify_content": null,
       "justify_items": null,
       "left": null,
       "margin": null,
       "max_height": null,
       "max_width": null,
       "min_height": null,
       "min_width": null,
       "object_fit": null,
       "object_position": null,
       "order": null,
       "overflow": null,
       "overflow_x": null,
       "overflow_y": null,
       "padding": null,
       "right": null,
       "top": null,
       "visibility": null,
       "width": "100%"
      }
     },
     "e206489a07244648972e5cf65851091e": {
      "model_module": "@jupyter-widgets/controls",
      "model_module_version": "1.5.0",
      "model_name": "DescriptionStyleModel",
      "state": {
       "_model_module": "@jupyter-widgets/controls",
       "_model_module_version": "1.5.0",
       "_model_name": "DescriptionStyleModel",
       "_view_count": null,
       "_view_module": "@jupyter-widgets/base",
       "_view_module_version": "1.2.0",
       "_view_name": "StyleView",
       "description_width": ""
      }
     },
     "f2811a3df03a4e77ae153a3a55cd9719": {
      "model_module": "@jupyter-widgets/controls",
      "model_module_version": "1.5.0",
      "model_name": "HTMLModel",
      "state": {
       "_dom_classes": [],
       "_model_module": "@jupyter-widgets/controls",
       "_model_module_version": "1.5.0",
       "_model_name": "HTMLModel",
       "_view_count": null,
       "_view_module": "@jupyter-widgets/controls",
       "_view_module_version": "1.5.0",
       "_view_name": "HTMLView",
       "description": "",
       "description_tooltip": null,
       "layout": "IPY_MODEL_ff482fb31627445f8ce7d6b63aa1539e",
       "placeholder": "​",
       "style": "IPY_MODEL_b10f97285c1d41e4bffa4ce4059e0776",
       "value": " 118/118 [10:26&lt;00:00,  5.31s/it, loss=0.105, v_num=0]"
      }
     },
     "ff482fb31627445f8ce7d6b63aa1539e": {
      "model_module": "@jupyter-widgets/base",
      "model_module_version": "1.2.0",
      "model_name": "LayoutModel",
      "state": {
       "_model_module": "@jupyter-widgets/base",
       "_model_module_version": "1.2.0",
       "_model_name": "LayoutModel",
       "_view_count": null,
       "_view_module": "@jupyter-widgets/base",
       "_view_module_version": "1.2.0",
       "_view_name": "LayoutView",
       "align_content": null,
       "align_items": null,
       "align_self": null,
       "border": null,
       "bottom": null,
       "display": null,
       "flex": null,
       "flex_flow": null,
       "grid_area": null,
       "grid_auto_columns": null,
       "grid_auto_flow": null,
       "grid_auto_rows": null,
       "grid_column": null,
       "grid_gap": null,
       "grid_row": null,
       "grid_template_areas": null,
       "grid_template_columns": null,
       "grid_template_rows": null,
       "height": null,
       "justify_content": null,
       "justify_items": null,
       "left": null,
       "margin": null,
       "max_height": null,
       "max_width": null,
       "min_height": null,
       "min_width": null,
       "object_fit": null,
       "object_position": null,
       "order": null,
       "overflow": null,
       "overflow_x": null,
       "overflow_y": null,
       "padding": null,
       "right": null,
       "top": null,
       "visibility": null,
       "width": null
      }
     }
    },
    "version_major": 2,
    "version_minor": 0
   }
  }
 },
 "nbformat": 4,
 "nbformat_minor": 5
}