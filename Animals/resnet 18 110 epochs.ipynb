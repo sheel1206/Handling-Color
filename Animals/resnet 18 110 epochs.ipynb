{
 "cells": [
  {
   "cell_type": "code",
   "execution_count": 1,
   "id": "b4c5f732",
   "metadata": {
    "_cell_guid": "b1076dfc-b9ad-4769-8c92-a6c4dae69d19",
    "_uuid": "8f2839f25d086af736a60e9eeb907d3b93b6e0e5",
    "execution": {
     "iopub.execute_input": "2021-10-26T11:59:52.205062Z",
     "iopub.status.busy": "2021-10-26T11:59:52.203505Z",
     "iopub.status.idle": "2021-10-26T11:59:52.205663Z",
     "shell.execute_reply": "2021-10-26T11:59:52.206074Z",
     "shell.execute_reply.started": "2021-10-26T11:55:34.807575Z"
    },
    "papermill": {
     "duration": 0.025862,
     "end_time": "2021-10-26T11:59:52.206297",
     "exception": false,
     "start_time": "2021-10-26T11:59:52.180435",
     "status": "completed"
    },
    "tags": []
   },
   "outputs": [],
   "source": [
    "#!pip install torch~=1.7.0 torchvision pytorch-lightning"
   ]
  },
  {
   "cell_type": "code",
   "execution_count": null,
   "id": "e883da9a",
   "metadata": {
    "papermill": {
     "duration": 0.016001,
     "end_time": "2021-10-26T11:59:52.241133",
     "exception": false,
     "start_time": "2021-10-26T11:59:52.225132",
     "status": "completed"
    },
    "tags": []
   },
   "outputs": [],
   "source": []
  },
  {
   "cell_type": "code",
   "execution_count": 2,
   "id": "b6ccbb22",
   "metadata": {
    "execution": {
     "iopub.execute_input": "2021-10-26T11:59:52.284625Z",
     "iopub.status.busy": "2021-10-26T11:59:52.283072Z",
     "iopub.status.idle": "2021-10-26T11:59:52.285212Z",
     "shell.execute_reply": "2021-10-26T11:59:52.285642Z",
     "shell.execute_reply.started": "2021-10-26T11:55:34.815294Z"
    },
    "papermill": {
     "duration": 0.028091,
     "end_time": "2021-10-26T11:59:52.285765",
     "exception": false,
     "start_time": "2021-10-26T11:59:52.257674",
     "status": "completed"
    },
    "tags": []
   },
   "outputs": [],
   "source": [
    "%matplotlib inline"
   ]
  },
  {
   "cell_type": "code",
   "execution_count": 3,
   "id": "8563d290",
   "metadata": {
    "execution": {
     "iopub.execute_input": "2021-10-26T11:59:52.321087Z",
     "iopub.status.busy": "2021-10-26T11:59:52.320513Z",
     "iopub.status.idle": "2021-10-26T12:00:05.265538Z",
     "shell.execute_reply": "2021-10-26T12:00:05.264598Z",
     "shell.execute_reply.started": "2021-10-26T11:55:34.826758Z"
    },
    "papermill": {
     "duration": 12.964091,
     "end_time": "2021-10-26T12:00:05.265699",
     "exception": false,
     "start_time": "2021-10-26T11:59:52.301608",
     "status": "completed"
    },
    "tags": []
   },
   "outputs": [
    {
     "name": "stdout",
     "output_type": "stream",
     "text": [
      "Collecting lightly\r\n",
      "  Downloading lightly-1.1.21-py3-none-any.whl (267 kB)\r\n",
      "\u001b[K     |████████████████████████████████| 267 kB 2.1 MB/s \r\n",
      "\u001b[?25hRequirement already satisfied: six>=1.10 in /opt/conda/lib/python3.7/site-packages (from lightly) (1.16.0)\r\n",
      "Requirement already satisfied: certifi>=14.05.14 in /opt/conda/lib/python3.7/site-packages (from lightly) (2021.10.8)\r\n",
      "Collecting hydra-core>=1.0.0\r\n",
      "  Downloading hydra_core-1.1.1-py3-none-any.whl (145 kB)\r\n",
      "\u001b[K     |████████████████████████████████| 145 kB 20.5 MB/s \r\n",
      "\u001b[?25hRequirement already satisfied: setuptools>=21.0.0 in /opt/conda/lib/python3.7/site-packages (from lightly) (58.0.4)\r\n",
      "Requirement already satisfied: python-dateutil>=2.5.3 in /opt/conda/lib/python3.7/site-packages (from lightly) (2.8.0)\r\n",
      "Requirement already satisfied: requests>=2.23.0 in /opt/conda/lib/python3.7/site-packages (from lightly) (2.25.1)\r\n",
      "Requirement already satisfied: urllib3>=1.15.1 in /opt/conda/lib/python3.7/site-packages (from lightly) (1.26.6)\r\n",
      "Collecting lightly-utils~=0.0.0\r\n",
      "  Downloading lightly_utils-0.0.2-py3-none-any.whl (6.4 kB)\r\n",
      "Requirement already satisfied: numpy>=1.18.1 in /opt/conda/lib/python3.7/site-packages (from lightly) (1.19.5)\r\n",
      "Requirement already satisfied: tqdm>=4.44 in /opt/conda/lib/python3.7/site-packages (from lightly) (4.62.3)\r\n",
      "Requirement already satisfied: pytorch-lightning>=1.0.4 in /opt/conda/lib/python3.7/site-packages (from lightly) (1.4.4)\r\n",
      "Requirement already satisfied: torchvision in /opt/conda/lib/python3.7/site-packages (from lightly) (0.10.1)\r\n",
      "Requirement already satisfied: importlib-resources in /opt/conda/lib/python3.7/site-packages (from hydra-core>=1.0.0->lightly) (5.2.2)\r\n",
      "Collecting antlr4-python3-runtime==4.8\r\n",
      "  Downloading antlr4-python3-runtime-4.8.tar.gz (112 kB)\r\n",
      "\u001b[K     |████████████████████████████████| 112 kB 19.7 MB/s \r\n",
      "\u001b[?25hCollecting omegaconf==2.1.*\r\n",
      "  Downloading omegaconf-2.1.1-py3-none-any.whl (74 kB)\r\n",
      "\u001b[K     |████████████████████████████████| 74 kB 3.0 MB/s \r\n",
      "\u001b[?25hRequirement already satisfied: PyYAML>=5.1.0 in /opt/conda/lib/python3.7/site-packages (from omegaconf==2.1.*->hydra-core>=1.0.0->lightly) (5.4.1)\r\n",
      "Requirement already satisfied: Pillow in /opt/conda/lib/python3.7/site-packages (from lightly-utils~=0.0.0->lightly) (8.2.0)\r\n",
      "Requirement already satisfied: pyDeprecate==0.3.1 in /opt/conda/lib/python3.7/site-packages (from pytorch-lightning>=1.0.4->lightly) (0.3.1)\r\n",
      "Requirement already satisfied: torch>=1.6 in /opt/conda/lib/python3.7/site-packages (from pytorch-lightning>=1.0.4->lightly) (1.9.1)\r\n",
      "Requirement already satisfied: fsspec[http]!=2021.06.0,>=2021.05.0 in /opt/conda/lib/python3.7/site-packages (from pytorch-lightning>=1.0.4->lightly) (2021.10.0)\r\n",
      "Requirement already satisfied: torchmetrics>=0.4.0 in /opt/conda/lib/python3.7/site-packages (from pytorch-lightning>=1.0.4->lightly) (0.5.0)\r\n",
      "Requirement already satisfied: typing-extensions in /opt/conda/lib/python3.7/site-packages (from pytorch-lightning>=1.0.4->lightly) (3.10.0.2)\r\n",
      "Requirement already satisfied: future>=0.17.1 in /opt/conda/lib/python3.7/site-packages (from pytorch-lightning>=1.0.4->lightly) (0.18.2)\r\n",
      "Requirement already satisfied: tensorboard>=2.2.0 in /opt/conda/lib/python3.7/site-packages (from pytorch-lightning>=1.0.4->lightly) (2.6.0)\r\n",
      "Requirement already satisfied: packaging>=17.0 in /opt/conda/lib/python3.7/site-packages (from pytorch-lightning>=1.0.4->lightly) (21.0)\r\n",
      "Requirement already satisfied: aiohttp in /opt/conda/lib/python3.7/site-packages (from fsspec[http]!=2021.06.0,>=2021.05.0->pytorch-lightning>=1.0.4->lightly) (3.7.4.post0)\r\n",
      "Requirement already satisfied: pyparsing>=2.0.2 in /opt/conda/lib/python3.7/site-packages (from packaging>=17.0->pytorch-lightning>=1.0.4->lightly) (2.4.7)\r\n",
      "Requirement already satisfied: idna<3,>=2.5 in /opt/conda/lib/python3.7/site-packages (from requests>=2.23.0->lightly) (2.10)\r\n",
      "Requirement already satisfied: chardet<5,>=3.0.2 in /opt/conda/lib/python3.7/site-packages (from requests>=2.23.0->lightly) (4.0.0)\r\n",
      "Requirement already satisfied: grpcio>=1.24.3 in /opt/conda/lib/python3.7/site-packages (from tensorboard>=2.2.0->pytorch-lightning>=1.0.4->lightly) (1.38.1)\r\n",
      "Requirement already satisfied: absl-py>=0.4 in /opt/conda/lib/python3.7/site-packages (from tensorboard>=2.2.0->pytorch-lightning>=1.0.4->lightly) (0.14.0)\r\n",
      "Requirement already satisfied: protobuf>=3.6.0 in /opt/conda/lib/python3.7/site-packages (from tensorboard>=2.2.0->pytorch-lightning>=1.0.4->lightly) (3.18.1)\r\n",
      "Requirement already satisfied: werkzeug>=0.11.15 in /opt/conda/lib/python3.7/site-packages (from tensorboard>=2.2.0->pytorch-lightning>=1.0.4->lightly) (2.0.1)\r\n",
      "Requirement already satisfied: wheel>=0.26 in /opt/conda/lib/python3.7/site-packages (from tensorboard>=2.2.0->pytorch-lightning>=1.0.4->lightly) (0.37.0)\r\n",
      "Requirement already satisfied: markdown>=2.6.8 in /opt/conda/lib/python3.7/site-packages (from tensorboard>=2.2.0->pytorch-lightning>=1.0.4->lightly) (3.3.4)\r\n",
      "Requirement already satisfied: tensorboard-data-server<0.7.0,>=0.6.0 in /opt/conda/lib/python3.7/site-packages (from tensorboard>=2.2.0->pytorch-lightning>=1.0.4->lightly) (0.6.1)\r\n",
      "Requirement already satisfied: google-auth<2,>=1.6.3 in /opt/conda/lib/python3.7/site-packages (from tensorboard>=2.2.0->pytorch-lightning>=1.0.4->lightly) (1.35.0)\r\n",
      "Requirement already satisfied: tensorboard-plugin-wit>=1.6.0 in /opt/conda/lib/python3.7/site-packages (from tensorboard>=2.2.0->pytorch-lightning>=1.0.4->lightly) (1.8.0)\r\n",
      "Requirement already satisfied: google-auth-oauthlib<0.5,>=0.4.1 in /opt/conda/lib/python3.7/site-packages (from tensorboard>=2.2.0->pytorch-lightning>=1.0.4->lightly) (0.4.6)\r\n",
      "Requirement already satisfied: cachetools<5.0,>=2.0.0 in /opt/conda/lib/python3.7/site-packages (from google-auth<2,>=1.6.3->tensorboard>=2.2.0->pytorch-lightning>=1.0.4->lightly) (4.2.2)\r\n",
      "Requirement already satisfied: rsa<5,>=3.1.4 in /opt/conda/lib/python3.7/site-packages (from google-auth<2,>=1.6.3->tensorboard>=2.2.0->pytorch-lightning>=1.0.4->lightly) (4.7.2)\r\n",
      "Requirement already satisfied: pyasn1-modules>=0.2.1 in /opt/conda/lib/python3.7/site-packages (from google-auth<2,>=1.6.3->tensorboard>=2.2.0->pytorch-lightning>=1.0.4->lightly) (0.2.7)\r\n",
      "Requirement already satisfied: requests-oauthlib>=0.7.0 in /opt/conda/lib/python3.7/site-packages (from google-auth-oauthlib<0.5,>=0.4.1->tensorboard>=2.2.0->pytorch-lightning>=1.0.4->lightly) (1.3.0)\r\n",
      "Requirement already satisfied: importlib-metadata in /opt/conda/lib/python3.7/site-packages (from markdown>=2.6.8->tensorboard>=2.2.0->pytorch-lightning>=1.0.4->lightly) (4.8.1)\r\n",
      "Requirement already satisfied: pyasn1<0.5.0,>=0.4.6 in /opt/conda/lib/python3.7/site-packages (from pyasn1-modules>=0.2.1->google-auth<2,>=1.6.3->tensorboard>=2.2.0->pytorch-lightning>=1.0.4->lightly) (0.4.8)\r\n",
      "Requirement already satisfied: oauthlib>=3.0.0 in /opt/conda/lib/python3.7/site-packages (from requests-oauthlib>=0.7.0->google-auth-oauthlib<0.5,>=0.4.1->tensorboard>=2.2.0->pytorch-lightning>=1.0.4->lightly) (3.1.1)\r\n",
      "Requirement already satisfied: multidict<7.0,>=4.5 in /opt/conda/lib/python3.7/site-packages (from aiohttp->fsspec[http]!=2021.06.0,>=2021.05.0->pytorch-lightning>=1.0.4->lightly) (5.1.0)\r\n",
      "Requirement already satisfied: async-timeout<4.0,>=3.0 in /opt/conda/lib/python3.7/site-packages (from aiohttp->fsspec[http]!=2021.06.0,>=2021.05.0->pytorch-lightning>=1.0.4->lightly) (3.0.1)\r\n",
      "Requirement already satisfied: yarl<2.0,>=1.0 in /opt/conda/lib/python3.7/site-packages (from aiohttp->fsspec[http]!=2021.06.0,>=2021.05.0->pytorch-lightning>=1.0.4->lightly) (1.6.3)\r\n",
      "Requirement already satisfied: attrs>=17.3.0 in /opt/conda/lib/python3.7/site-packages (from aiohttp->fsspec[http]!=2021.06.0,>=2021.05.0->pytorch-lightning>=1.0.4->lightly) (21.2.0)\r\n",
      "Requirement already satisfied: zipp>=0.5 in /opt/conda/lib/python3.7/site-packages (from importlib-metadata->markdown>=2.6.8->tensorboard>=2.2.0->pytorch-lightning>=1.0.4->lightly) (3.5.0)\r\n",
      "Building wheels for collected packages: antlr4-python3-runtime\r\n",
      "  Building wheel for antlr4-python3-runtime (setup.py) ... \u001b[?25l-\b \b\\\b \bdone\r\n",
      "\u001b[?25h  Created wheel for antlr4-python3-runtime: filename=antlr4_python3_runtime-4.8-py3-none-any.whl size=141230 sha256=2bed16813beabb105c211d89161db2407c3653b943a64281ca476137574716fc\r\n",
      "  Stored in directory: /root/.cache/pip/wheels/ca/33/b7/336836125fc9bb4ceaa4376d8abca10ca8bc84ddc824baea6c\r\n",
      "Successfully built antlr4-python3-runtime\r\n",
      "Installing collected packages: antlr4-python3-runtime, omegaconf, lightly-utils, hydra-core, lightly\r\n",
      "Successfully installed antlr4-python3-runtime-4.8 hydra-core-1.1.1 lightly-1.1.21 lightly-utils-0.0.2 omegaconf-2.1.1\r\n",
      "\u001b[33mWARNING: Running pip as the 'root' user can result in broken permissions and conflicting behaviour with the system package manager. It is recommended to use a virtual environment instead: https://pip.pypa.io/warnings/venv\u001b[0m\r\n"
     ]
    }
   ],
   "source": [
    "!pip install lightly"
   ]
  },
  {
   "cell_type": "code",
   "execution_count": 4,
   "id": "d843c4a1",
   "metadata": {
    "execution": {
     "iopub.execute_input": "2021-10-26T12:00:05.320032Z",
     "iopub.status.busy": "2021-10-26T12:00:05.319248Z",
     "iopub.status.idle": "2021-10-26T12:00:11.141059Z",
     "shell.execute_reply": "2021-10-26T12:00:11.140141Z",
     "shell.execute_reply.started": "2021-10-26T11:55:42.591348Z"
    },
    "papermill": {
     "duration": 5.850649,
     "end_time": "2021-10-26T12:00:11.141213",
     "exception": false,
     "start_time": "2021-10-26T12:00:05.290564",
     "status": "completed"
    },
    "tags": []
   },
   "outputs": [],
   "source": [
    "import torch\n",
    "#import torch.nn as nn\n",
    "import torchvision\n",
    "import pytorch_lightning as pl\n",
    "import lightly\n",
    "from torchmetrics import F1"
   ]
  },
  {
   "cell_type": "code",
   "execution_count": 5,
   "id": "95d127be",
   "metadata": {
    "execution": {
     "iopub.execute_input": "2021-10-26T12:00:11.199891Z",
     "iopub.status.busy": "2021-10-26T12:00:11.191766Z",
     "iopub.status.idle": "2021-10-26T12:00:11.884577Z",
     "shell.execute_reply": "2021-10-26T12:00:11.885017Z",
     "shell.execute_reply.started": "2021-10-26T11:55:42.606607Z"
    },
    "papermill": {
     "duration": 0.720702,
     "end_time": "2021-10-26T12:00:11.885176",
     "exception": false,
     "start_time": "2021-10-26T12:00:11.164474",
     "status": "completed"
    },
    "tags": []
   },
   "outputs": [
    {
     "name": "stdout",
     "output_type": "stream",
     "text": [
      "Tue Oct 26 12:00:11 2021       \r\n",
      "+-----------------------------------------------------------------------------+\r\n",
      "| NVIDIA-SMI 450.119.04   Driver Version: 450.119.04   CUDA Version: 11.0     |\r\n",
      "|-------------------------------+----------------------+----------------------+\r\n",
      "| GPU  Name        Persistence-M| Bus-Id        Disp.A | Volatile Uncorr. ECC |\r\n",
      "| Fan  Temp  Perf  Pwr:Usage/Cap|         Memory-Usage | GPU-Util  Compute M. |\r\n",
      "|                               |                      |               MIG M. |\r\n",
      "|===============================+======================+======================|\r\n",
      "|   0  Tesla P100-PCIE...  Off  | 00000000:00:04.0 Off |                    0 |\r\n",
      "| N/A   34C    P0    26W / 250W |      0MiB / 16280MiB |      0%      Default |\r\n",
      "|                               |                      |                  N/A |\r\n",
      "+-------------------------------+----------------------+----------------------+\r\n",
      "                                                                               \r\n",
      "+-----------------------------------------------------------------------------+\r\n",
      "| Processes:                                                                  |\r\n",
      "|  GPU   GI   CI        PID   Type   Process name                  GPU Memory |\r\n",
      "|        ID   ID                                                   Usage      |\r\n",
      "|=============================================================================|\r\n",
      "|  No running processes found                                                 |\r\n",
      "+-----------------------------------------------------------------------------+\r\n"
     ]
    }
   ],
   "source": [
    "!nvidia-smi"
   ]
  },
  {
   "cell_type": "code",
   "execution_count": 6,
   "id": "f672e095",
   "metadata": {
    "execution": {
     "iopub.execute_input": "2021-10-26T12:00:11.939150Z",
     "iopub.status.busy": "2021-10-26T12:00:11.938435Z",
     "iopub.status.idle": "2021-10-26T12:00:11.941635Z",
     "shell.execute_reply": "2021-10-26T12:00:11.942086Z",
     "shell.execute_reply.started": "2021-10-26T11:55:43.416586Z"
    },
    "papermill": {
     "duration": 0.033454,
     "end_time": "2021-10-26T12:00:11.942207",
     "exception": false,
     "start_time": "2021-10-26T12:00:11.908753",
     "status": "completed"
    },
    "tags": []
   },
   "outputs": [
    {
     "data": {
      "text/plain": [
       "'1.9.1'"
      ]
     },
     "execution_count": 6,
     "metadata": {},
     "output_type": "execute_result"
    }
   ],
   "source": [
    "import torch\n",
    "torch.__version__"
   ]
  },
  {
   "cell_type": "code",
   "execution_count": 7,
   "id": "f216062d",
   "metadata": {
    "execution": {
     "iopub.execute_input": "2021-10-26T12:00:11.992265Z",
     "iopub.status.busy": "2021-10-26T12:00:11.991575Z",
     "iopub.status.idle": "2021-10-26T12:00:11.993663Z",
     "shell.execute_reply": "2021-10-26T12:00:11.994060Z",
     "shell.execute_reply.started": "2021-10-26T11:55:43.425443Z"
    },
    "papermill": {
     "duration": 0.029202,
     "end_time": "2021-10-26T12:00:11.994180",
     "exception": false,
     "start_time": "2021-10-26T12:00:11.964978",
     "status": "completed"
    },
    "tags": []
   },
   "outputs": [],
   "source": [
    "from torchvision.models import resnet18\n",
    "from torch import nn\n",
    "from torch.utils.data import DataLoader"
   ]
  },
  {
   "cell_type": "code",
   "execution_count": 8,
   "id": "07f9a145",
   "metadata": {
    "execution": {
     "iopub.execute_input": "2021-10-26T12:00:12.045165Z",
     "iopub.status.busy": "2021-10-26T12:00:12.044308Z",
     "iopub.status.idle": "2021-10-26T12:00:12.046136Z",
     "shell.execute_reply": "2021-10-26T12:00:12.046580Z",
     "shell.execute_reply.started": "2021-10-26T11:55:43.435329Z"
    },
    "papermill": {
     "duration": 0.02901,
     "end_time": "2021-10-26T12:00:12.046709",
     "exception": false,
     "start_time": "2021-10-26T12:00:12.017699",
     "status": "completed"
    },
    "tags": []
   },
   "outputs": [],
   "source": [
    "import torchvision\n",
    "from torchvision import datasets \n",
    "from torchvision.transforms import ToTensor"
   ]
  },
  {
   "cell_type": "code",
   "execution_count": 9,
   "id": "88a4c870",
   "metadata": {
    "execution": {
     "iopub.execute_input": "2021-10-26T12:00:12.097071Z",
     "iopub.status.busy": "2021-10-26T12:00:12.096277Z",
     "iopub.status.idle": "2021-10-26T12:00:12.098464Z",
     "shell.execute_reply": "2021-10-26T12:00:12.098926Z",
     "shell.execute_reply.started": "2021-10-26T11:55:43.444096Z"
    },
    "papermill": {
     "duration": 0.029513,
     "end_time": "2021-10-26T12:00:12.099041",
     "exception": false,
     "start_time": "2021-10-26T12:00:12.069528",
     "status": "completed"
    },
    "tags": []
   },
   "outputs": [],
   "source": [
    "path_to_train ='../input/dogsandcats/Final Data/Train'\n",
    "path_to_test ='../input/dogsandcats/Final Data/Val'"
   ]
  },
  {
   "cell_type": "code",
   "execution_count": 10,
   "id": "e9198b6a",
   "metadata": {
    "execution": {
     "iopub.execute_input": "2021-10-26T12:00:12.151511Z",
     "iopub.status.busy": "2021-10-26T12:00:12.150736Z",
     "iopub.status.idle": "2021-10-26T12:00:12.152715Z",
     "shell.execute_reply": "2021-10-26T12:00:12.153126Z",
     "shell.execute_reply.started": "2021-10-26T11:55:43.452861Z"
    },
    "papermill": {
     "duration": 0.031403,
     "end_time": "2021-10-26T12:00:12.153240",
     "exception": false,
     "start_time": "2021-10-26T12:00:12.121837",
     "status": "completed"
    },
    "tags": []
   },
   "outputs": [],
   "source": [
    "train_classifier_transforms = torchvision.transforms.Compose([\n",
    "    torchvision.transforms.ToTensor(),\n",
    "    torchvision.transforms.Resize((60, 60)),\n",
    "    torchvision.transforms.Normalize(\n",
    "           mean=[0.485, 0.456, 0.406],\n",
    "            std=[0.229, 0.224, 0.225]\n",
    "        )\n",
    "])\n",
    "test_transforms = torchvision.transforms.Compose([\n",
    "    torchvision.transforms.ToTensor(),\n",
    "    torchvision.transforms.Resize((60, 60)),\n",
    "    torchvision.transforms.Normalize(\n",
    "           mean=[0.485, 0.456, 0.406],\n",
    "            std=[0.229, 0.224, 0.225]\n",
    "        )\n",
    "])"
   ]
  },
  {
   "cell_type": "code",
   "execution_count": 11,
   "id": "e7c0c3ba",
   "metadata": {
    "execution": {
     "iopub.execute_input": "2021-10-26T12:00:12.203158Z",
     "iopub.status.busy": "2021-10-26T12:00:12.202649Z",
     "iopub.status.idle": "2021-10-26T12:00:17.759350Z",
     "shell.execute_reply": "2021-10-26T12:00:17.758350Z",
     "shell.execute_reply.started": "2021-10-26T11:55:43.462546Z"
    },
    "papermill": {
     "duration": 5.58279,
     "end_time": "2021-10-26T12:00:17.759528",
     "exception": false,
     "start_time": "2021-10-26T12:00:12.176738",
     "status": "completed"
    },
    "tags": []
   },
   "outputs": [],
   "source": [
    "train_set = datasets.ImageFolder(root=path_to_train, transform= train_classifier_transforms)\n",
    "test_set = datasets.ImageFolder(root= path_to_test , transform = test_transforms)"
   ]
  },
  {
   "cell_type": "code",
   "execution_count": 12,
   "id": "ae9fbdaa",
   "metadata": {
    "execution": {
     "iopub.execute_input": "2021-10-26T12:00:17.812615Z",
     "iopub.status.busy": "2021-10-26T12:00:17.811871Z",
     "iopub.status.idle": "2021-10-26T12:00:17.813890Z",
     "shell.execute_reply": "2021-10-26T12:00:17.814256Z",
     "shell.execute_reply.started": "2021-10-26T11:55:44.578456Z"
    },
    "papermill": {
     "duration": 0.030313,
     "end_time": "2021-10-26T12:00:17.814406",
     "exception": false,
     "start_time": "2021-10-26T12:00:17.784093",
     "status": "completed"
    },
    "tags": []
   },
   "outputs": [],
   "source": [
    "train_dl = DataLoader(train_set, batch_size=512, shuffle=True)\n",
    "test_dl = DataLoader(test_set, batch_size=512)"
   ]
  },
  {
   "cell_type": "code",
   "execution_count": 13,
   "id": "a8857ec4",
   "metadata": {
    "execution": {
     "iopub.execute_input": "2021-10-26T12:00:17.864853Z",
     "iopub.status.busy": "2021-10-26T12:00:17.864061Z",
     "iopub.status.idle": "2021-10-26T12:00:17.866568Z",
     "shell.execute_reply": "2021-10-26T12:00:17.866137Z",
     "shell.execute_reply.started": "2021-10-26T11:55:44.588788Z"
    },
    "papermill": {
     "duration": 0.028871,
     "end_time": "2021-10-26T12:00:17.866683",
     "exception": false,
     "start_time": "2021-10-26T12:00:17.837812",
     "status": "completed"
    },
    "tags": []
   },
   "outputs": [],
   "source": [
    "import pytorch_lightning as pl\n",
    "from pytorch_lightning.core.decorators import auto_move_data"
   ]
  },
  {
   "cell_type": "code",
   "execution_count": 14,
   "id": "86dcef10",
   "metadata": {
    "execution": {
     "iopub.execute_input": "2021-10-26T12:00:17.920325Z",
     "iopub.status.busy": "2021-10-26T12:00:17.919797Z",
     "iopub.status.idle": "2021-10-26T12:00:17.924731Z",
     "shell.execute_reply": "2021-10-26T12:00:17.925178Z",
     "shell.execute_reply.started": "2021-10-26T11:55:44.595184Z"
    },
    "papermill": {
     "duration": 0.034826,
     "end_time": "2021-10-26T12:00:17.925302",
     "exception": false,
     "start_time": "2021-10-26T12:00:17.890476",
     "status": "completed"
    },
    "tags": []
   },
   "outputs": [
    {
     "name": "stderr",
     "output_type": "stream",
     "text": [
      "/opt/conda/lib/python3.7/site-packages/pytorch_lightning/core/decorators.py:66: LightningDeprecationWarning: The `@auto_move_data` decorator is deprecated in v1.3 and will be removed in v1.5. Please use `trainer.predict` instead for inference. The decorator was applied to `forward`\n",
      "  \"The `@auto_move_data` decorator is deprecated in v1.3 and will be removed in v1.5.\"\n"
     ]
    }
   ],
   "source": [
    "class ResNetMNIST(pl.LightningModule):\n",
    "  def __init__(self):\n",
    "    super().__init__()\n",
    "    self.model = resnet18(num_classes=10)\n",
    "    self.loss = nn.CrossEntropyLoss()\n",
    "\n",
    "  @auto_move_data\n",
    "  def forward(self, x):\n",
    "    return self.model(x)\n",
    "  \n",
    "  def training_step(self, batch, batch_no):\n",
    "    x, y = batch\n",
    "    logits = self(x)\n",
    "    loss = self.loss(logits, y)\n",
    "    return loss\n",
    "  \n",
    "  def configure_optimizers(self):\n",
    "    return torch.optim.RMSprop(self.parameters(), lr=0.005)"
   ]
  },
  {
   "cell_type": "code",
   "execution_count": 15,
   "id": "2fcc699b",
   "metadata": {
    "execution": {
     "iopub.execute_input": "2021-10-26T12:00:17.978782Z",
     "iopub.status.busy": "2021-10-26T12:00:17.978254Z",
     "iopub.status.idle": "2021-10-26T12:00:18.195824Z",
     "shell.execute_reply": "2021-10-26T12:00:18.195159Z",
     "shell.execute_reply.started": "2021-10-26T11:55:44.608169Z"
    },
    "papermill": {
     "duration": 0.246794,
     "end_time": "2021-10-26T12:00:18.195947",
     "exception": false,
     "start_time": "2021-10-26T12:00:17.949153",
     "status": "completed"
    },
    "tags": []
   },
   "outputs": [],
   "source": [
    "model = ResNetMNIST()"
   ]
  },
  {
   "cell_type": "code",
   "execution_count": 16,
   "id": "10c3e8c5",
   "metadata": {
    "execution": {
     "iopub.execute_input": "2021-10-26T12:00:18.291039Z",
     "iopub.status.busy": "2021-10-26T12:00:18.290277Z",
     "iopub.status.idle": "2021-10-26T13:56:18.094757Z",
     "shell.execute_reply": "2021-10-26T13:56:18.096072Z"
    },
    "papermill": {
     "duration": 6959.875885,
     "end_time": "2021-10-26T13:56:18.096306",
     "exception": false,
     "start_time": "2021-10-26T12:00:18.220421",
     "status": "completed"
    },
    "tags": []
   },
   "outputs": [
    {
     "name": "stderr",
     "output_type": "stream",
     "text": [
      "/opt/conda/lib/python3.7/site-packages/pytorch_lightning/trainer/data_loading.py:323: UserWarning: The number of training samples (30) is smaller than the logging interval Trainer(log_every_n_steps=50). Set a lower value for log_every_n_steps if you want to see logs for the training epoch.\n",
      "  f\"The number of training samples ({self.num_training_batches}) is smaller than the logging interval\"\n"
     ]
    },
    {
     "data": {
      "application/vnd.jupyter.widget-view+json": {
       "model_id": "bd5d66edfad642d5994aaa74548aa920",
       "version_major": 2,
       "version_minor": 0
      },
      "text/plain": [
       "Training: -1it [00:00, ?it/s]"
      ]
     },
     "metadata": {},
     "output_type": "display_data"
    }
   ],
   "source": [
    "trainer = pl.Trainer(\n",
    "    gpus=1,\n",
    "    max_epochs=110,\n",
    "    progress_bar_refresh_rate=20\n",
    ")\n",
    "trainer.fit(model, train_dl)"
   ]
  },
  {
   "cell_type": "code",
   "execution_count": 17,
   "id": "acff16da",
   "metadata": {
    "execution": {
     "iopub.execute_input": "2021-10-26T13:56:18.208027Z",
     "iopub.status.busy": "2021-10-26T13:56:18.207263Z",
     "iopub.status.idle": "2021-10-26T13:56:18.484414Z",
     "shell.execute_reply": "2021-10-26T13:56:18.485083Z"
    },
    "papermill": {
     "duration": 0.334793,
     "end_time": "2021-10-26T13:56:18.485291",
     "exception": false,
     "start_time": "2021-10-26T13:56:18.150498",
     "status": "completed"
    },
    "tags": []
   },
   "outputs": [],
   "source": [
    "trainer.save_checkpoint(\"resnet18_mnist.pt\")"
   ]
  },
  {
   "cell_type": "code",
   "execution_count": 18,
   "id": "5105abe3",
   "metadata": {
    "execution": {
     "iopub.execute_input": "2021-10-26T13:56:18.556599Z",
     "iopub.status.busy": "2021-10-26T13:56:18.555821Z",
     "iopub.status.idle": "2021-10-26T13:56:18.557887Z",
     "shell.execute_reply": "2021-10-26T13:56:18.558266Z"
    },
    "papermill": {
     "duration": 0.031863,
     "end_time": "2021-10-26T13:56:18.558412",
     "exception": false,
     "start_time": "2021-10-26T13:56:18.526549",
     "status": "completed"
    },
    "tags": []
   },
   "outputs": [],
   "source": [
    "def get_prediction(x, model: pl.LightningModule):\n",
    "  model.freeze() # prepares model for predicting\n",
    "  probabilities = torch.softmax(model(x), dim=1)\n",
    "  predicted_class = torch.argmax(probabilities, dim=1)\n",
    "  return predicted_class, probabilities"
   ]
  },
  {
   "cell_type": "code",
   "execution_count": 19,
   "id": "062a9b8c",
   "metadata": {
    "execution": {
     "iopub.execute_input": "2021-10-26T13:56:18.612422Z",
     "iopub.status.busy": "2021-10-26T13:56:18.610883Z",
     "iopub.status.idle": "2021-10-26T13:56:18.613024Z",
     "shell.execute_reply": "2021-10-26T13:56:18.613452Z"
    },
    "papermill": {
     "duration": 0.030228,
     "end_time": "2021-10-26T13:56:18.613590",
     "exception": false,
     "start_time": "2021-10-26T13:56:18.583362",
     "status": "completed"
    },
    "tags": []
   },
   "outputs": [],
   "source": [
    "from tqdm.autonotebook import tqdm"
   ]
  },
  {
   "cell_type": "code",
   "execution_count": 20,
   "id": "74d4741a",
   "metadata": {
    "execution": {
     "iopub.execute_input": "2021-10-26T13:56:18.666559Z",
     "iopub.status.busy": "2021-10-26T13:56:18.665767Z",
     "iopub.status.idle": "2021-10-26T13:56:18.893063Z",
     "shell.execute_reply": "2021-10-26T13:56:18.892419Z"
    },
    "papermill": {
     "duration": 0.255356,
     "end_time": "2021-10-26T13:56:18.893196",
     "exception": false,
     "start_time": "2021-10-26T13:56:18.637840",
     "status": "completed"
    },
    "tags": []
   },
   "outputs": [],
   "source": [
    "inference_model = ResNetMNIST.load_from_checkpoint(\"./resnet18_mnist.pt\")"
   ]
  },
  {
   "cell_type": "code",
   "execution_count": 21,
   "id": "ea9f59bb",
   "metadata": {
    "execution": {
     "iopub.execute_input": "2021-10-26T13:56:18.948535Z",
     "iopub.status.busy": "2021-10-26T13:56:18.947746Z",
     "iopub.status.idle": "2021-10-26T13:56:39.518807Z",
     "shell.execute_reply": "2021-10-26T13:56:39.519819Z"
    },
    "papermill": {
     "duration": 20.601742,
     "end_time": "2021-10-26T13:56:39.520025",
     "exception": false,
     "start_time": "2021-10-26T13:56:18.918283",
     "status": "completed"
    },
    "tags": []
   },
   "outputs": [
    {
     "data": {
      "application/vnd.jupyter.widget-view+json": {
       "model_id": "332e8275f2054408964b5a86ec6c8d51",
       "version_major": 2,
       "version_minor": 0
      },
      "text/plain": [
       "  0%|          | 0/4 [00:00<?, ?it/s]"
      ]
     },
     "metadata": {},
     "output_type": "display_data"
    }
   ],
   "source": [
    "true_y, pred_y = [], []\n",
    "for batch in tqdm(iter(test_dl), total=len(test_dl)):\n",
    "  x, y = batch\n",
    "  true_y.extend(y)\n",
    "  preds, probs = get_prediction(x, inference_model)\n",
    "  pred_y.extend(preds.cpu())"
   ]
  },
  {
   "cell_type": "code",
   "execution_count": 22,
   "id": "69a4ff8b",
   "metadata": {
    "execution": {
     "iopub.execute_input": "2021-10-26T13:56:39.605748Z",
     "iopub.status.busy": "2021-10-26T13:56:39.604947Z",
     "iopub.status.idle": "2021-10-26T13:56:40.563523Z",
     "shell.execute_reply": "2021-10-26T13:56:40.562954Z"
    },
    "papermill": {
     "duration": 1.002566,
     "end_time": "2021-10-26T13:56:40.563728",
     "exception": false,
     "start_time": "2021-10-26T13:56:39.561162",
     "status": "completed"
    },
    "tags": []
   },
   "outputs": [],
   "source": [
    "from sklearn.metrics import classification_report"
   ]
  },
  {
   "cell_type": "code",
   "execution_count": 23,
   "id": "16e5e147",
   "metadata": {
    "execution": {
     "iopub.execute_input": "2021-10-26T13:56:40.623557Z",
     "iopub.status.busy": "2021-10-26T13:56:40.618558Z",
     "iopub.status.idle": "2021-10-26T13:56:40.659289Z",
     "shell.execute_reply": "2021-10-26T13:56:40.659743Z"
    },
    "papermill": {
     "duration": 0.070336,
     "end_time": "2021-10-26T13:56:40.659872",
     "exception": false,
     "start_time": "2021-10-26T13:56:40.589536",
     "status": "completed"
    },
    "tags": []
   },
   "outputs": [
    {
     "name": "stdout",
     "output_type": "stream",
     "text": [
      "              precision    recall  f1-score   support\n",
      "\n",
      "           0       0.85      0.69      0.76       402\n",
      "           1       0.74      0.78      0.76       403\n",
      "           2       0.69      0.83      0.76       404\n",
      "           3       0.77      0.73      0.75       403\n",
      "\n",
      "    accuracy                           0.76      1612\n",
      "   macro avg       0.76      0.76      0.76      1612\n",
      "weighted avg       0.76      0.76      0.76      1612\n",
      "\n"
     ]
    }
   ],
   "source": [
    "print(classification_report(true_y, pred_y, digits=2))"
   ]
  },
  {
   "cell_type": "code",
   "execution_count": null,
   "id": "6783b3fd",
   "metadata": {
    "papermill": {
     "duration": 0.025243,
     "end_time": "2021-10-26T13:56:40.710848",
     "exception": false,
     "start_time": "2021-10-26T13:56:40.685605",
     "status": "completed"
    },
    "tags": []
   },
   "outputs": [],
   "source": []
  }
 ],
 "metadata": {
  "kernelspec": {
   "display_name": "Python 3",
   "language": "python",
   "name": "python3"
  },
  "language_info": {
   "codemirror_mode": {
    "name": "ipython",
    "version": 3
   },
   "file_extension": ".py",
   "mimetype": "text/x-python",
   "name": "python",
   "nbconvert_exporter": "python",
   "pygments_lexer": "ipython3",
   "version": "3.7.10"
  },
  "papermill": {
   "default_parameters": {},
   "duration": 7020.044884,
   "end_time": "2021-10-26T13:56:44.187821",
   "environment_variables": {},
   "exception": null,
   "input_path": "__notebook__.ipynb",
   "output_path": "__notebook__.ipynb",
   "parameters": {},
   "start_time": "2021-10-26T11:59:44.142937",
   "version": "2.3.3"
  },
  "widgets": {
   "application/vnd.jupyter.widget-state+json": {
    "state": {
     "051bbe326c484105a87bc456cad36175": {
      "model_module": "@jupyter-widgets/controls",
      "model_module_version": "1.5.0",
      "model_name": "DescriptionStyleModel",
      "state": {
       "_model_module": "@jupyter-widgets/controls",
       "_model_module_version": "1.5.0",
       "_model_name": "DescriptionStyleModel",
       "_view_count": null,
       "_view_module": "@jupyter-widgets/base",
       "_view_module_version": "1.2.0",
       "_view_name": "StyleView",
       "description_width": ""
      }
     },
     "0b6e0e952a47469a910a61af8c625108": {
      "model_module": "@jupyter-widgets/controls",
      "model_module_version": "1.5.0",
      "model_name": "ProgressStyleModel",
      "state": {
       "_model_module": "@jupyter-widgets/controls",
       "_model_module_version": "1.5.0",
       "_model_name": "ProgressStyleModel",
       "_view_count": null,
       "_view_module": "@jupyter-widgets/base",
       "_view_module_version": "1.2.0",
       "_view_name": "StyleView",
       "bar_color": null,
       "description_width": ""
      }
     },
     "2e90a702a3664a2594c5fea574874539": {
      "model_module": "@jupyter-widgets/base",
      "model_module_version": "1.2.0",
      "model_name": "LayoutModel",
      "state": {
       "_model_module": "@jupyter-widgets/base",
       "_model_module_version": "1.2.0",
       "_model_name": "LayoutModel",
       "_view_count": null,
       "_view_module": "@jupyter-widgets/base",
       "_view_module_version": "1.2.0",
       "_view_name": "LayoutView",
       "align_content": null,
       "align_items": null,
       "align_self": null,
       "border": null,
       "bottom": null,
       "display": null,
       "flex": null,
       "flex_flow": null,
       "grid_area": null,
       "grid_auto_columns": null,
       "grid_auto_flow": null,
       "grid_auto_rows": null,
       "grid_column": null,
       "grid_gap": null,
       "grid_row": null,
       "grid_template_areas": null,
       "grid_template_columns": null,
       "grid_template_rows": null,
       "height": null,
       "justify_content": null,
       "justify_items": null,
       "left": null,
       "margin": null,
       "max_height": null,
       "max_width": null,
       "min_height": null,
       "min_width": null,
       "object_fit": null,
       "object_position": null,
       "order": null,
       "overflow": null,
       "overflow_x": null,
       "overflow_y": null,
       "padding": null,
       "right": null,
       "top": null,
       "visibility": null,
       "width": null
      }
     },
     "332e8275f2054408964b5a86ec6c8d51": {
      "model_module": "@jupyter-widgets/controls",
      "model_module_version": "1.5.0",
      "model_name": "HBoxModel",
      "state": {
       "_dom_classes": [],
       "_model_module": "@jupyter-widgets/controls",
       "_model_module_version": "1.5.0",
       "_model_name": "HBoxModel",
       "_view_count": null,
       "_view_module": "@jupyter-widgets/controls",
       "_view_module_version": "1.5.0",
       "_view_name": "HBoxView",
       "box_style": "",
       "children": [
        "IPY_MODEL_6c4cb7678bde42ab956a3e76cf3a54f1",
        "IPY_MODEL_35c0de59ea8a4f60b3be2d7c44a09ab9",
        "IPY_MODEL_57ed40d3ae964f81accc4ad09cb395c7"
       ],
       "layout": "IPY_MODEL_2e90a702a3664a2594c5fea574874539"
      }
     },
     "35c0de59ea8a4f60b3be2d7c44a09ab9": {
      "model_module": "@jupyter-widgets/controls",
      "model_module_version": "1.5.0",
      "model_name": "FloatProgressModel",
      "state": {
       "_dom_classes": [],
       "_model_module": "@jupyter-widgets/controls",
       "_model_module_version": "1.5.0",
       "_model_name": "FloatProgressModel",
       "_view_count": null,
       "_view_module": "@jupyter-widgets/controls",
       "_view_module_version": "1.5.0",
       "_view_name": "ProgressView",
       "bar_style": "success",
       "description": "",
       "description_tooltip": null,
       "layout": "IPY_MODEL_7691d665bebc4f82a7776f73224993d6",
       "max": 4.0,
       "min": 0.0,
       "orientation": "horizontal",
       "style": "IPY_MODEL_64a2ce9bdad44d4a8e3ad6a0f6ec8239",
       "value": 4.0
      }
     },
     "40e55ba1e3fc4577abff3eb27af1ce6c": {
      "model_module": "@jupyter-widgets/controls",
      "model_module_version": "1.5.0",
      "model_name": "DescriptionStyleModel",
      "state": {
       "_model_module": "@jupyter-widgets/controls",
       "_model_module_version": "1.5.0",
       "_model_name": "DescriptionStyleModel",
       "_view_count": null,
       "_view_module": "@jupyter-widgets/base",
       "_view_module_version": "1.2.0",
       "_view_name": "StyleView",
       "description_width": ""
      }
     },
     "57ed40d3ae964f81accc4ad09cb395c7": {
      "model_module": "@jupyter-widgets/controls",
      "model_module_version": "1.5.0",
      "model_name": "HTMLModel",
      "state": {
       "_dom_classes": [],
       "_model_module": "@jupyter-widgets/controls",
       "_model_module_version": "1.5.0",
       "_model_name": "HTMLModel",
       "_view_count": null,
       "_view_module": "@jupyter-widgets/controls",
       "_view_module_version": "1.5.0",
       "_view_name": "HTMLView",
       "description": "",
       "description_tooltip": null,
       "layout": "IPY_MODEL_ff3eccd7feea475fb688887168ec7c8d",
       "placeholder": "​",
       "style": "IPY_MODEL_051bbe326c484105a87bc456cad36175",
       "value": " 4/4 [00:20&lt;00:00,  4.32s/it]"
      }
     },
     "64a2ce9bdad44d4a8e3ad6a0f6ec8239": {
      "model_module": "@jupyter-widgets/controls",
      "model_module_version": "1.5.0",
      "model_name": "ProgressStyleModel",
      "state": {
       "_model_module": "@jupyter-widgets/controls",
       "_model_module_version": "1.5.0",
       "_model_name": "ProgressStyleModel",
       "_view_count": null,
       "_view_module": "@jupyter-widgets/base",
       "_view_module_version": "1.2.0",
       "_view_name": "StyleView",
       "bar_color": null,
       "description_width": ""
      }
     },
     "6c4cb7678bde42ab956a3e76cf3a54f1": {
      "model_module": "@jupyter-widgets/controls",
      "model_module_version": "1.5.0",
      "model_name": "HTMLModel",
      "state": {
       "_dom_classes": [],
       "_model_module": "@jupyter-widgets/controls",
       "_model_module_version": "1.5.0",
       "_model_name": "HTMLModel",
       "_view_count": null,
       "_view_module": "@jupyter-widgets/controls",
       "_view_module_version": "1.5.0",
       "_view_name": "HTMLView",
       "description": "",
       "description_tooltip": null,
       "layout": "IPY_MODEL_8fbfbfa049f7473f9a784c33c975d231",
       "placeholder": "​",
       "style": "IPY_MODEL_40e55ba1e3fc4577abff3eb27af1ce6c",
       "value": "100%"
      }
     },
     "7691d665bebc4f82a7776f73224993d6": {
      "model_module": "@jupyter-widgets/base",
      "model_module_version": "1.2.0",
      "model_name": "LayoutModel",
      "state": {
       "_model_module": "@jupyter-widgets/base",
       "_model_module_version": "1.2.0",
       "_model_name": "LayoutModel",
       "_view_count": null,
       "_view_module": "@jupyter-widgets/base",
       "_view_module_version": "1.2.0",
       "_view_name": "LayoutView",
       "align_content": null,
       "align_items": null,
       "align_self": null,
       "border": null,
       "bottom": null,
       "display": null,
       "flex": null,
       "flex_flow": null,
       "grid_area": null,
       "grid_auto_columns": null,
       "grid_auto_flow": null,
       "grid_auto_rows": null,
       "grid_column": null,
       "grid_gap": null,
       "grid_row": null,
       "grid_template_areas": null,
       "grid_template_columns": null,
       "grid_template_rows": null,
       "height": null,
       "justify_content": null,
       "justify_items": null,
       "left": null,
       "margin": null,
       "max_height": null,
       "max_width": null,
       "min_height": null,
       "min_width": null,
       "object_fit": null,
       "object_position": null,
       "order": null,
       "overflow": null,
       "overflow_x": null,
       "overflow_y": null,
       "padding": null,
       "right": null,
       "top": null,
       "visibility": null,
       "width": null
      }
     },
     "775e23ec98ef4650b43e0314a8de6523": {
      "model_module": "@jupyter-widgets/base",
      "model_module_version": "1.2.0",
      "model_name": "LayoutModel",
      "state": {
       "_model_module": "@jupyter-widgets/base",
       "_model_module_version": "1.2.0",
       "_model_name": "LayoutModel",
       "_view_count": null,
       "_view_module": "@jupyter-widgets/base",
       "_view_module_version": "1.2.0",
       "_view_name": "LayoutView",
       "align_content": null,
       "align_items": null,
       "align_self": null,
       "border": null,
       "bottom": null,
       "display": null,
       "flex": null,
       "flex_flow": null,
       "grid_area": null,
       "grid_auto_columns": null,
       "grid_auto_flow": null,
       "grid_auto_rows": null,
       "grid_column": null,
       "grid_gap": null,
       "grid_row": null,
       "grid_template_areas": null,
       "grid_template_columns": null,
       "grid_template_rows": null,
       "height": null,
       "justify_content": null,
       "justify_items": null,
       "left": null,
       "margin": null,
       "max_height": null,
       "max_width": null,
       "min_height": null,
       "min_width": null,
       "object_fit": null,
       "object_position": null,
       "order": null,
       "overflow": null,
       "overflow_x": null,
       "overflow_y": null,
       "padding": null,
       "right": null,
       "top": null,
       "visibility": null,
       "width": null
      }
     },
     "8fbfbfa049f7473f9a784c33c975d231": {
      "model_module": "@jupyter-widgets/base",
      "model_module_version": "1.2.0",
      "model_name": "LayoutModel",
      "state": {
       "_model_module": "@jupyter-widgets/base",
       "_model_module_version": "1.2.0",
       "_model_name": "LayoutModel",
       "_view_count": null,
       "_view_module": "@jupyter-widgets/base",
       "_view_module_version": "1.2.0",
       "_view_name": "LayoutView",
       "align_content": null,
       "align_items": null,
       "align_self": null,
       "border": null,
       "bottom": null,
       "display": null,
       "flex": null,
       "flex_flow": null,
       "grid_area": null,
       "grid_auto_columns": null,
       "grid_auto_flow": null,
       "grid_auto_rows": null,
       "grid_column": null,
       "grid_gap": null,
       "grid_row": null,
       "grid_template_areas": null,
       "grid_template_columns": null,
       "grid_template_rows": null,
       "height": null,
       "justify_content": null,
       "justify_items": null,
       "left": null,
       "margin": null,
       "max_height": null,
       "max_width": null,
       "min_height": null,
       "min_width": null,
       "object_fit": null,
       "object_position": null,
       "order": null,
       "overflow": null,
       "overflow_x": null,
       "overflow_y": null,
       "padding": null,
       "right": null,
       "top": null,
       "visibility": null,
       "width": null
      }
     },
     "ac648c547780436fa5e911b1526d8e8b": {
      "model_module": "@jupyter-widgets/controls",
      "model_module_version": "1.5.0",
      "model_name": "HTMLModel",
      "state": {
       "_dom_classes": [],
       "_model_module": "@jupyter-widgets/controls",
       "_model_module_version": "1.5.0",
       "_model_name": "HTMLModel",
       "_view_count": null,
       "_view_module": "@jupyter-widgets/controls",
       "_view_module_version": "1.5.0",
       "_view_name": "HTMLView",
       "description": "",
       "description_tooltip": null,
       "layout": "IPY_MODEL_775e23ec98ef4650b43e0314a8de6523",
       "placeholder": "​",
       "style": "IPY_MODEL_f89e82108cc4481199b6ba762b450a16",
       "value": " 30/30 [01:02&lt;00:00,  2.03s/it, loss=0.000179, v_num=0]"
      }
     },
     "adb65b48da3849d895b8703ed42649a9": {
      "model_module": "@jupyter-widgets/base",
      "model_module_version": "1.2.0",
      "model_name": "LayoutModel",
      "state": {
       "_model_module": "@jupyter-widgets/base",
       "_model_module_version": "1.2.0",
       "_model_name": "LayoutModel",
       "_view_count": null,
       "_view_module": "@jupyter-widgets/base",
       "_view_module_version": "1.2.0",
       "_view_name": "LayoutView",
       "align_content": null,
       "align_items": null,
       "align_self": null,
       "border": null,
       "bottom": null,
       "display": null,
       "flex": null,
       "flex_flow": null,
       "grid_area": null,
       "grid_auto_columns": null,
       "grid_auto_flow": null,
       "grid_auto_rows": null,
       "grid_column": null,
       "grid_gap": null,
       "grid_row": null,
       "grid_template_areas": null,
       "grid_template_columns": null,
       "grid_template_rows": null,
       "height": null,
       "justify_content": null,
       "justify_items": null,
       "left": null,
       "margin": null,
       "max_height": null,
       "max_width": null,
       "min_height": null,
       "min_width": null,
       "object_fit": null,
       "object_position": null,
       "order": null,
       "overflow": null,
       "overflow_x": null,
       "overflow_y": null,
       "padding": null,
       "right": null,
       "top": null,
       "visibility": null,
       "width": null
      }
     },
     "bd5d66edfad642d5994aaa74548aa920": {
      "model_module": "@jupyter-widgets/controls",
      "model_module_version": "1.5.0",
      "model_name": "HBoxModel",
      "state": {
       "_dom_classes": [],
       "_model_module": "@jupyter-widgets/controls",
       "_model_module_version": "1.5.0",
       "_model_name": "HBoxModel",
       "_view_count": null,
       "_view_module": "@jupyter-widgets/controls",
       "_view_module_version": "1.5.0",
       "_view_name": "HBoxView",
       "box_style": "",
       "children": [
        "IPY_MODEL_fe65b6c4793d4680adbd60e28e7d6942",
        "IPY_MODEL_d635d794413e47aca8e6f4592ed3c665",
        "IPY_MODEL_ac648c547780436fa5e911b1526d8e8b"
       ],
       "layout": "IPY_MODEL_d130d720094244a0a5e546b01784712f"
      }
     },
     "d130d720094244a0a5e546b01784712f": {
      "model_module": "@jupyter-widgets/base",
      "model_module_version": "1.2.0",
      "model_name": "LayoutModel",
      "state": {
       "_model_module": "@jupyter-widgets/base",
       "_model_module_version": "1.2.0",
       "_model_name": "LayoutModel",
       "_view_count": null,
       "_view_module": "@jupyter-widgets/base",
       "_view_module_version": "1.2.0",
       "_view_name": "LayoutView",
       "align_content": null,
       "align_items": null,
       "align_self": null,
       "border": null,
       "bottom": null,
       "display": "inline-flex",
       "flex": null,
       "flex_flow": "row wrap",
       "grid_area": null,
       "grid_auto_columns": null,
       "grid_auto_flow": null,
       "grid_auto_rows": null,
       "grid_column": null,
       "grid_gap": null,
       "grid_row": null,
       "grid_template_areas": null,
       "grid_template_columns": null,
       "grid_template_rows": null,
       "height": null,
       "justify_content": null,
       "justify_items": null,
       "left": null,
       "margin": null,
       "max_height": null,
       "max_width": null,
       "min_height": null,
       "min_width": null,
       "object_fit": null,
       "object_position": null,
       "order": null,
       "overflow": null,
       "overflow_x": null,
       "overflow_y": null,
       "padding": null,
       "right": null,
       "top": null,
       "visibility": null,
       "width": "100%"
      }
     },
     "d635d794413e47aca8e6f4592ed3c665": {
      "model_module": "@jupyter-widgets/controls",
      "model_module_version": "1.5.0",
      "model_name": "FloatProgressModel",
      "state": {
       "_dom_classes": [],
       "_model_module": "@jupyter-widgets/controls",
       "_model_module_version": "1.5.0",
       "_model_name": "FloatProgressModel",
       "_view_count": null,
       "_view_module": "@jupyter-widgets/controls",
       "_view_module_version": "1.5.0",
       "_view_name": "ProgressView",
       "bar_style": "success",
       "description": "",
       "description_tooltip": null,
       "layout": "IPY_MODEL_f9b4d808777a4d3ab666bc7481831651",
       "max": 30.0,
       "min": 0.0,
       "orientation": "horizontal",
       "style": "IPY_MODEL_0b6e0e952a47469a910a61af8c625108",
       "value": 30.0
      }
     },
     "f1c2d01c7a674afcae1898a74b3c325b": {
      "model_module": "@jupyter-widgets/controls",
      "model_module_version": "1.5.0",
      "model_name": "DescriptionStyleModel",
      "state": {
       "_model_module": "@jupyter-widgets/controls",
       "_model_module_version": "1.5.0",
       "_model_name": "DescriptionStyleModel",
       "_view_count": null,
       "_view_module": "@jupyter-widgets/base",
       "_view_module_version": "1.2.0",
       "_view_name": "StyleView",
       "description_width": ""
      }
     },
     "f89e82108cc4481199b6ba762b450a16": {
      "model_module": "@jupyter-widgets/controls",
      "model_module_version": "1.5.0",
      "model_name": "DescriptionStyleModel",
      "state": {
       "_model_module": "@jupyter-widgets/controls",
       "_model_module_version": "1.5.0",
       "_model_name": "DescriptionStyleModel",
       "_view_count": null,
       "_view_module": "@jupyter-widgets/base",
       "_view_module_version": "1.2.0",
       "_view_name": "StyleView",
       "description_width": ""
      }
     },
     "f9b4d808777a4d3ab666bc7481831651": {
      "model_module": "@jupyter-widgets/base",
      "model_module_version": "1.2.0",
      "model_name": "LayoutModel",
      "state": {
       "_model_module": "@jupyter-widgets/base",
       "_model_module_version": "1.2.0",
       "_model_name": "LayoutModel",
       "_view_count": null,
       "_view_module": "@jupyter-widgets/base",
       "_view_module_version": "1.2.0",
       "_view_name": "LayoutView",
       "align_content": null,
       "align_items": null,
       "align_self": null,
       "border": null,
       "bottom": null,
       "display": null,
       "flex": "2",
       "flex_flow": null,
       "grid_area": null,
       "grid_auto_columns": null,
       "grid_auto_flow": null,
       "grid_auto_rows": null,
       "grid_column": null,
       "grid_gap": null,
       "grid_row": null,
       "grid_template_areas": null,
       "grid_template_columns": null,
       "grid_template_rows": null,
       "height": null,
       "justify_content": null,
       "justify_items": null,
       "left": null,
       "margin": null,
       "max_height": null,
       "max_width": null,
       "min_height": null,
       "min_width": null,
       "object_fit": null,
       "object_position": null,
       "order": null,
       "overflow": null,
       "overflow_x": null,
       "overflow_y": null,
       "padding": null,
       "right": null,
       "top": null,
       "visibility": null,
       "width": null
      }
     },
     "fe65b6c4793d4680adbd60e28e7d6942": {
      "model_module": "@jupyter-widgets/controls",
      "model_module_version": "1.5.0",
      "model_name": "HTMLModel",
      "state": {
       "_dom_classes": [],
       "_model_module": "@jupyter-widgets/controls",
       "_model_module_version": "1.5.0",
       "_model_name": "HTMLModel",
       "_view_count": null,
       "_view_module": "@jupyter-widgets/controls",
       "_view_module_version": "1.5.0",
       "_view_name": "HTMLView",
       "description": "",
       "description_tooltip": null,
       "layout": "IPY_MODEL_adb65b48da3849d895b8703ed42649a9",
       "placeholder": "​",
       "style": "IPY_MODEL_f1c2d01c7a674afcae1898a74b3c325b",
       "value": "Epoch 109: 100%"
      }
     },
     "ff3eccd7feea475fb688887168ec7c8d": {
      "model_module": "@jupyter-widgets/base",
      "model_module_version": "1.2.0",
      "model_name": "LayoutModel",
      "state": {
       "_model_module": "@jupyter-widgets/base",
       "_model_module_version": "1.2.0",
       "_model_name": "LayoutModel",
       "_view_count": null,
       "_view_module": "@jupyter-widgets/base",
       "_view_module_version": "1.2.0",
       "_view_name": "LayoutView",
       "align_content": null,
       "align_items": null,
       "align_self": null,
       "border": null,
       "bottom": null,
       "display": null,
       "flex": null,
       "flex_flow": null,
       "grid_area": null,
       "grid_auto_columns": null,
       "grid_auto_flow": null,
       "grid_auto_rows": null,
       "grid_column": null,
       "grid_gap": null,
       "grid_row": null,
       "grid_template_areas": null,
       "grid_template_columns": null,
       "grid_template_rows": null,
       "height": null,
       "justify_content": null,
       "justify_items": null,
       "left": null,
       "margin": null,
       "max_height": null,
       "max_width": null,
       "min_height": null,
       "min_width": null,
       "object_fit": null,
       "object_position": null,
       "order": null,
       "overflow": null,
       "overflow_x": null,
       "overflow_y": null,
       "padding": null,
       "right": null,
       "top": null,
       "visibility": null,
       "width": null
      }
     }
    },
    "version_major": 2,
    "version_minor": 0
   }
  }
 },
 "nbformat": 4,
 "nbformat_minor": 5
}
