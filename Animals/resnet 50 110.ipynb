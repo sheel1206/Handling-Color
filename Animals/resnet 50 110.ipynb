{
 "cells": [
  {
   "cell_type": "code",
   "execution_count": 1,
   "id": "b05a5477",
   "metadata": {
    "_cell_guid": "b1076dfc-b9ad-4769-8c92-a6c4dae69d19",
    "_uuid": "8f2839f25d086af736a60e9eeb907d3b93b6e0e5",
    "execution": {
     "iopub.execute_input": "2021-10-27T15:46:47.484928Z",
     "iopub.status.busy": "2021-10-27T15:46:47.484284Z",
     "iopub.status.idle": "2021-10-27T15:46:47.487476Z",
     "shell.execute_reply": "2021-10-27T15:46:47.486902Z",
     "shell.execute_reply.started": "2021-10-27T14:32:29.435811Z"
    },
    "papermill": {
     "duration": 0.032195,
     "end_time": "2021-10-27T15:46:47.487628",
     "exception": false,
     "start_time": "2021-10-27T15:46:47.455433",
     "status": "completed"
    },
    "tags": []
   },
   "outputs": [],
   "source": [
    "#!pip install torch~=1.7.0 torchvision pytorch-lightning"
   ]
  },
  {
   "cell_type": "code",
   "execution_count": null,
   "id": "b5f369f1",
   "metadata": {
    "papermill": {
     "duration": 0.017009,
     "end_time": "2021-10-27T15:46:47.522439",
     "exception": false,
     "start_time": "2021-10-27T15:46:47.505430",
     "status": "completed"
    },
    "tags": []
   },
   "outputs": [],
   "source": []
  },
  {
   "cell_type": "code",
   "execution_count": 2,
   "id": "41634653",
   "metadata": {
    "execution": {
     "iopub.execute_input": "2021-10-27T15:46:47.567732Z",
     "iopub.status.busy": "2021-10-27T15:46:47.566958Z",
     "iopub.status.idle": "2021-10-27T15:46:47.569611Z",
     "shell.execute_reply": "2021-10-27T15:46:47.569040Z",
     "shell.execute_reply.started": "2021-10-27T14:32:29.454698Z"
    },
    "papermill": {
     "duration": 0.029731,
     "end_time": "2021-10-27T15:46:47.569743",
     "exception": false,
     "start_time": "2021-10-27T15:46:47.540012",
     "status": "completed"
    },
    "tags": []
   },
   "outputs": [],
   "source": [
    "%matplotlib inline"
   ]
  },
  {
   "cell_type": "code",
   "execution_count": 3,
   "id": "7f914ff5",
   "metadata": {
    "execution": {
     "iopub.execute_input": "2021-10-27T15:46:47.608526Z",
     "iopub.status.busy": "2021-10-27T15:46:47.607774Z",
     "iopub.status.idle": "2021-10-27T15:47:00.481874Z",
     "shell.execute_reply": "2021-10-27T15:47:00.481357Z",
     "shell.execute_reply.started": "2021-10-27T14:32:29.467362Z"
    },
    "papermill": {
     "duration": 12.895063,
     "end_time": "2021-10-27T15:47:00.481995",
     "exception": false,
     "start_time": "2021-10-27T15:46:47.586932",
     "status": "completed"
    },
    "tags": []
   },
   "outputs": [
    {
     "name": "stdout",
     "output_type": "stream",
     "text": [
      "Collecting lightly\r\n",
      "  Downloading lightly-1.1.21-py3-none-any.whl (267 kB)\r\n",
      "\u001b[K     |████████████████████████████████| 267 kB 517 kB/s \r\n",
      "\u001b[?25hRequirement already satisfied: requests>=2.23.0 in /opt/conda/lib/python3.7/site-packages (from lightly) (2.25.1)\r\n",
      "Collecting hydra-core>=1.0.0\r\n",
      "  Downloading hydra_core-1.1.1-py3-none-any.whl (145 kB)\r\n",
      "\u001b[K     |████████████████████████████████| 145 kB 6.5 MB/s \r\n",
      "\u001b[?25hRequirement already satisfied: tqdm>=4.44 in /opt/conda/lib/python3.7/site-packages (from lightly) (4.62.3)\r\n",
      "Collecting lightly-utils~=0.0.0\r\n",
      "  Downloading lightly_utils-0.0.2-py3-none-any.whl (6.4 kB)\r\n",
      "Requirement already satisfied: certifi>=14.05.14 in /opt/conda/lib/python3.7/site-packages (from lightly) (2021.10.8)\r\n",
      "Requirement already satisfied: pytorch-lightning>=1.0.4 in /opt/conda/lib/python3.7/site-packages (from lightly) (1.4.4)\r\n",
      "Requirement already satisfied: six>=1.10 in /opt/conda/lib/python3.7/site-packages (from lightly) (1.16.0)\r\n",
      "Requirement already satisfied: torchvision in /opt/conda/lib/python3.7/site-packages (from lightly) (0.10.1)\r\n",
      "Requirement already satisfied: numpy>=1.18.1 in /opt/conda/lib/python3.7/site-packages (from lightly) (1.19.5)\r\n",
      "Requirement already satisfied: urllib3>=1.15.1 in /opt/conda/lib/python3.7/site-packages (from lightly) (1.26.6)\r\n",
      "Requirement already satisfied: python-dateutil>=2.5.3 in /opt/conda/lib/python3.7/site-packages (from lightly) (2.8.0)\r\n",
      "Requirement already satisfied: setuptools>=21.0.0 in /opt/conda/lib/python3.7/site-packages (from lightly) (58.0.4)\r\n",
      "Collecting antlr4-python3-runtime==4.8\r\n",
      "  Downloading antlr4-python3-runtime-4.8.tar.gz (112 kB)\r\n",
      "\u001b[K     |████████████████████████████████| 112 kB 6.5 MB/s \r\n",
      "\u001b[?25hCollecting omegaconf==2.1.*\r\n",
      "  Downloading omegaconf-2.1.1-py3-none-any.whl (74 kB)\r\n",
      "\u001b[K     |████████████████████████████████| 74 kB 2.1 MB/s \r\n",
      "\u001b[?25hRequirement already satisfied: importlib-resources in /opt/conda/lib/python3.7/site-packages (from hydra-core>=1.0.0->lightly) (5.2.2)\r\n",
      "Requirement already satisfied: PyYAML>=5.1.0 in /opt/conda/lib/python3.7/site-packages (from omegaconf==2.1.*->hydra-core>=1.0.0->lightly) (5.4.1)\r\n",
      "Requirement already satisfied: Pillow in /opt/conda/lib/python3.7/site-packages (from lightly-utils~=0.0.0->lightly) (8.2.0)\r\n",
      "Requirement already satisfied: future>=0.17.1 in /opt/conda/lib/python3.7/site-packages (from pytorch-lightning>=1.0.4->lightly) (0.18.2)\r\n",
      "Requirement already satisfied: fsspec[http]!=2021.06.0,>=2021.05.0 in /opt/conda/lib/python3.7/site-packages (from pytorch-lightning>=1.0.4->lightly) (2021.10.0)\r\n",
      "Requirement already satisfied: pyDeprecate==0.3.1 in /opt/conda/lib/python3.7/site-packages (from pytorch-lightning>=1.0.4->lightly) (0.3.1)\r\n",
      "Requirement already satisfied: torchmetrics>=0.4.0 in /opt/conda/lib/python3.7/site-packages (from pytorch-lightning>=1.0.4->lightly) (0.5.0)\r\n",
      "Requirement already satisfied: tensorboard>=2.2.0 in /opt/conda/lib/python3.7/site-packages (from pytorch-lightning>=1.0.4->lightly) (2.6.0)\r\n",
      "Requirement already satisfied: torch>=1.6 in /opt/conda/lib/python3.7/site-packages (from pytorch-lightning>=1.0.4->lightly) (1.9.1)\r\n",
      "Requirement already satisfied: typing-extensions in /opt/conda/lib/python3.7/site-packages (from pytorch-lightning>=1.0.4->lightly) (3.10.0.2)\r\n",
      "Requirement already satisfied: packaging>=17.0 in /opt/conda/lib/python3.7/site-packages (from pytorch-lightning>=1.0.4->lightly) (21.0)\r\n",
      "Requirement already satisfied: aiohttp in /opt/conda/lib/python3.7/site-packages (from fsspec[http]!=2021.06.0,>=2021.05.0->pytorch-lightning>=1.0.4->lightly) (3.7.4.post0)\r\n",
      "Requirement already satisfied: pyparsing>=2.0.2 in /opt/conda/lib/python3.7/site-packages (from packaging>=17.0->pytorch-lightning>=1.0.4->lightly) (2.4.7)\r\n",
      "Requirement already satisfied: idna<3,>=2.5 in /opt/conda/lib/python3.7/site-packages (from requests>=2.23.0->lightly) (2.10)\r\n",
      "Requirement already satisfied: chardet<5,>=3.0.2 in /opt/conda/lib/python3.7/site-packages (from requests>=2.23.0->lightly) (4.0.0)\r\n",
      "Requirement already satisfied: grpcio>=1.24.3 in /opt/conda/lib/python3.7/site-packages (from tensorboard>=2.2.0->pytorch-lightning>=1.0.4->lightly) (1.38.1)\r\n",
      "Requirement already satisfied: tensorboard-data-server<0.7.0,>=0.6.0 in /opt/conda/lib/python3.7/site-packages (from tensorboard>=2.2.0->pytorch-lightning>=1.0.4->lightly) (0.6.1)\r\n",
      "Requirement already satisfied: google-auth-oauthlib<0.5,>=0.4.1 in /opt/conda/lib/python3.7/site-packages (from tensorboard>=2.2.0->pytorch-lightning>=1.0.4->lightly) (0.4.6)\r\n",
      "Requirement already satisfied: protobuf>=3.6.0 in /opt/conda/lib/python3.7/site-packages (from tensorboard>=2.2.0->pytorch-lightning>=1.0.4->lightly) (3.18.1)\r\n",
      "Requirement already satisfied: markdown>=2.6.8 in /opt/conda/lib/python3.7/site-packages (from tensorboard>=2.2.0->pytorch-lightning>=1.0.4->lightly) (3.3.4)\r\n",
      "Requirement already satisfied: google-auth<2,>=1.6.3 in /opt/conda/lib/python3.7/site-packages (from tensorboard>=2.2.0->pytorch-lightning>=1.0.4->lightly) (1.35.0)\r\n",
      "Requirement already satisfied: werkzeug>=0.11.15 in /opt/conda/lib/python3.7/site-packages (from tensorboard>=2.2.0->pytorch-lightning>=1.0.4->lightly) (2.0.1)\r\n",
      "Requirement already satisfied: tensorboard-plugin-wit>=1.6.0 in /opt/conda/lib/python3.7/site-packages (from tensorboard>=2.2.0->pytorch-lightning>=1.0.4->lightly) (1.8.0)\r\n",
      "Requirement already satisfied: wheel>=0.26 in /opt/conda/lib/python3.7/site-packages (from tensorboard>=2.2.0->pytorch-lightning>=1.0.4->lightly) (0.37.0)\r\n",
      "Requirement already satisfied: absl-py>=0.4 in /opt/conda/lib/python3.7/site-packages (from tensorboard>=2.2.0->pytorch-lightning>=1.0.4->lightly) (0.14.0)\r\n",
      "Requirement already satisfied: cachetools<5.0,>=2.0.0 in /opt/conda/lib/python3.7/site-packages (from google-auth<2,>=1.6.3->tensorboard>=2.2.0->pytorch-lightning>=1.0.4->lightly) (4.2.2)\r\n",
      "Requirement already satisfied: pyasn1-modules>=0.2.1 in /opt/conda/lib/python3.7/site-packages (from google-auth<2,>=1.6.3->tensorboard>=2.2.0->pytorch-lightning>=1.0.4->lightly) (0.2.7)\r\n",
      "Requirement already satisfied: rsa<5,>=3.1.4 in /opt/conda/lib/python3.7/site-packages (from google-auth<2,>=1.6.3->tensorboard>=2.2.0->pytorch-lightning>=1.0.4->lightly) (4.7.2)\r\n",
      "Requirement already satisfied: requests-oauthlib>=0.7.0 in /opt/conda/lib/python3.7/site-packages (from google-auth-oauthlib<0.5,>=0.4.1->tensorboard>=2.2.0->pytorch-lightning>=1.0.4->lightly) (1.3.0)\r\n",
      "Requirement already satisfied: importlib-metadata in /opt/conda/lib/python3.7/site-packages (from markdown>=2.6.8->tensorboard>=2.2.0->pytorch-lightning>=1.0.4->lightly) (4.8.1)\r\n",
      "Requirement already satisfied: pyasn1<0.5.0,>=0.4.6 in /opt/conda/lib/python3.7/site-packages (from pyasn1-modules>=0.2.1->google-auth<2,>=1.6.3->tensorboard>=2.2.0->pytorch-lightning>=1.0.4->lightly) (0.4.8)\r\n",
      "Requirement already satisfied: oauthlib>=3.0.0 in /opt/conda/lib/python3.7/site-packages (from requests-oauthlib>=0.7.0->google-auth-oauthlib<0.5,>=0.4.1->tensorboard>=2.2.0->pytorch-lightning>=1.0.4->lightly) (3.1.1)\r\n",
      "Requirement already satisfied: yarl<2.0,>=1.0 in /opt/conda/lib/python3.7/site-packages (from aiohttp->fsspec[http]!=2021.06.0,>=2021.05.0->pytorch-lightning>=1.0.4->lightly) (1.6.3)\r\n",
      "Requirement already satisfied: multidict<7.0,>=4.5 in /opt/conda/lib/python3.7/site-packages (from aiohttp->fsspec[http]!=2021.06.0,>=2021.05.0->pytorch-lightning>=1.0.4->lightly) (5.1.0)\r\n",
      "Requirement already satisfied: attrs>=17.3.0 in /opt/conda/lib/python3.7/site-packages (from aiohttp->fsspec[http]!=2021.06.0,>=2021.05.0->pytorch-lightning>=1.0.4->lightly) (21.2.0)\r\n",
      "Requirement already satisfied: async-timeout<4.0,>=3.0 in /opt/conda/lib/python3.7/site-packages (from aiohttp->fsspec[http]!=2021.06.0,>=2021.05.0->pytorch-lightning>=1.0.4->lightly) (3.0.1)\r\n",
      "Requirement already satisfied: zipp>=0.5 in /opt/conda/lib/python3.7/site-packages (from importlib-metadata->markdown>=2.6.8->tensorboard>=2.2.0->pytorch-lightning>=1.0.4->lightly) (3.5.0)\r\n",
      "Building wheels for collected packages: antlr4-python3-runtime\r\n",
      "  Building wheel for antlr4-python3-runtime (setup.py) ... \u001b[?25l-\b \b\\\b \bdone\r\n",
      "\u001b[?25h  Created wheel for antlr4-python3-runtime: filename=antlr4_python3_runtime-4.8-py3-none-any.whl size=141230 sha256=7e3c0458c5387616b59e571a2654d3a76e1572e93fda0968bdc972bfdc0eb2b7\r\n",
      "  Stored in directory: /root/.cache/pip/wheels/ca/33/b7/336836125fc9bb4ceaa4376d8abca10ca8bc84ddc824baea6c\r\n",
      "Successfully built antlr4-python3-runtime\r\n",
      "Installing collected packages: antlr4-python3-runtime, omegaconf, lightly-utils, hydra-core, lightly\r\n",
      "Successfully installed antlr4-python3-runtime-4.8 hydra-core-1.1.1 lightly-1.1.21 lightly-utils-0.0.2 omegaconf-2.1.1\r\n",
      "\u001b[33mWARNING: Running pip as the 'root' user can result in broken permissions and conflicting behaviour with the system package manager. It is recommended to use a virtual environment instead: https://pip.pypa.io/warnings/venv\u001b[0m\r\n"
     ]
    }
   ],
   "source": [
    "!pip install lightly"
   ]
  },
  {
   "cell_type": "code",
   "execution_count": 4,
   "id": "a7fea7e0",
   "metadata": {
    "execution": {
     "iopub.execute_input": "2021-10-27T15:47:00.537941Z",
     "iopub.status.busy": "2021-10-27T15:47:00.537207Z",
     "iopub.status.idle": "2021-10-27T15:47:04.528236Z",
     "shell.execute_reply": "2021-10-27T15:47:04.528718Z",
     "shell.execute_reply.started": "2021-10-27T14:32:41.879215Z"
    },
    "papermill": {
     "duration": 4.021231,
     "end_time": "2021-10-27T15:47:04.528884",
     "exception": false,
     "start_time": "2021-10-27T15:47:00.507653",
     "status": "completed"
    },
    "tags": []
   },
   "outputs": [],
   "source": [
    "import torch\n",
    "#import torch.nn as nn\n",
    "import torchvision\n",
    "import pytorch_lightning as pl\n",
    "import lightly\n",
    "from torchmetrics import F1"
   ]
  },
  {
   "cell_type": "code",
   "execution_count": 5,
   "id": "435c0b81",
   "metadata": {
    "execution": {
     "iopub.execute_input": "2021-10-27T15:47:04.585684Z",
     "iopub.status.busy": "2021-10-27T15:47:04.584875Z",
     "iopub.status.idle": "2021-10-27T15:47:05.279663Z",
     "shell.execute_reply": "2021-10-27T15:47:05.278878Z",
     "shell.execute_reply.started": "2021-10-27T14:32:46.288606Z"
    },
    "papermill": {
     "duration": 0.725509,
     "end_time": "2021-10-27T15:47:05.279799",
     "exception": false,
     "start_time": "2021-10-27T15:47:04.554290",
     "status": "completed"
    },
    "tags": []
   },
   "outputs": [
    {
     "name": "stdout",
     "output_type": "stream",
     "text": [
      "Wed Oct 27 15:47:05 2021       \r\n",
      "+-----------------------------------------------------------------------------+\r\n",
      "| NVIDIA-SMI 450.119.04   Driver Version: 450.119.04   CUDA Version: 11.0     |\r\n",
      "|-------------------------------+----------------------+----------------------+\r\n",
      "| GPU  Name        Persistence-M| Bus-Id        Disp.A | Volatile Uncorr. ECC |\r\n",
      "| Fan  Temp  Perf  Pwr:Usage/Cap|         Memory-Usage | GPU-Util  Compute M. |\r\n",
      "|                               |                      |               MIG M. |\r\n",
      "|===============================+======================+======================|\r\n",
      "|   0  Tesla P100-PCIE...  Off  | 00000000:00:04.0 Off |                    0 |\r\n",
      "| N/A   34C    P0    26W / 250W |      0MiB / 16280MiB |      0%      Default |\r\n",
      "|                               |                      |                  N/A |\r\n",
      "+-------------------------------+----------------------+----------------------+\r\n",
      "                                                                               \r\n",
      "+-----------------------------------------------------------------------------+\r\n",
      "| Processes:                                                                  |\r\n",
      "|  GPU   GI   CI        PID   Type   Process name                  GPU Memory |\r\n",
      "|        ID   ID                                                   Usage      |\r\n",
      "|=============================================================================|\r\n",
      "|  No running processes found                                                 |\r\n",
      "+-----------------------------------------------------------------------------+\r\n"
     ]
    }
   ],
   "source": [
    "!nvidia-smi"
   ]
  },
  {
   "cell_type": "code",
   "execution_count": 6,
   "id": "fe2a1c7d",
   "metadata": {
    "execution": {
     "iopub.execute_input": "2021-10-27T15:47:05.340140Z",
     "iopub.status.busy": "2021-10-27T15:47:05.339151Z",
     "iopub.status.idle": "2021-10-27T15:47:05.343451Z",
     "shell.execute_reply": "2021-10-27T15:47:05.342999Z",
     "shell.execute_reply.started": "2021-10-27T14:32:47.073125Z"
    },
    "papermill": {
     "duration": 0.036261,
     "end_time": "2021-10-27T15:47:05.343560",
     "exception": false,
     "start_time": "2021-10-27T15:47:05.307299",
     "status": "completed"
    },
    "tags": []
   },
   "outputs": [
    {
     "data": {
      "text/plain": [
       "'1.9.1'"
      ]
     },
     "execution_count": 6,
     "metadata": {},
     "output_type": "execute_result"
    }
   ],
   "source": [
    "import torch\n",
    "torch.__version__"
   ]
  },
  {
   "cell_type": "code",
   "execution_count": 7,
   "id": "49491da5",
   "metadata": {
    "execution": {
     "iopub.execute_input": "2021-10-27T15:47:05.400515Z",
     "iopub.status.busy": "2021-10-27T15:47:05.398990Z",
     "iopub.status.idle": "2021-10-27T15:47:05.401201Z",
     "shell.execute_reply": "2021-10-27T15:47:05.401630Z",
     "shell.execute_reply.started": "2021-10-27T14:32:47.085584Z"
    },
    "papermill": {
     "duration": 0.032354,
     "end_time": "2021-10-27T15:47:05.401750",
     "exception": false,
     "start_time": "2021-10-27T15:47:05.369396",
     "status": "completed"
    },
    "tags": []
   },
   "outputs": [],
   "source": [
    "from torchvision.models import resnet50\n",
    "from torch import nn\n",
    "from torch.utils.data import DataLoader"
   ]
  },
  {
   "cell_type": "code",
   "execution_count": 8,
   "id": "e8bd962f",
   "metadata": {
    "execution": {
     "iopub.execute_input": "2021-10-27T15:47:05.459003Z",
     "iopub.status.busy": "2021-10-27T15:47:05.457480Z",
     "iopub.status.idle": "2021-10-27T15:47:05.459691Z",
     "shell.execute_reply": "2021-10-27T15:47:05.460090Z",
     "shell.execute_reply.started": "2021-10-27T14:32:47.092223Z"
    },
    "papermill": {
     "duration": 0.032534,
     "end_time": "2021-10-27T15:47:05.460239",
     "exception": false,
     "start_time": "2021-10-27T15:47:05.427705",
     "status": "completed"
    },
    "tags": []
   },
   "outputs": [],
   "source": [
    "import torchvision\n",
    "from torchvision import datasets \n",
    "from torchvision.transforms import ToTensor"
   ]
  },
  {
   "cell_type": "code",
   "execution_count": 9,
   "id": "0aa850f8",
   "metadata": {
    "execution": {
     "iopub.execute_input": "2021-10-27T15:47:05.516421Z",
     "iopub.status.busy": "2021-10-27T15:47:05.515474Z",
     "iopub.status.idle": "2021-10-27T15:47:05.518504Z",
     "shell.execute_reply": "2021-10-27T15:47:05.517889Z",
     "shell.execute_reply.started": "2021-10-27T14:32:47.102829Z"
    },
    "papermill": {
     "duration": 0.032433,
     "end_time": "2021-10-27T15:47:05.518613",
     "exception": false,
     "start_time": "2021-10-27T15:47:05.486180",
     "status": "completed"
    },
    "tags": []
   },
   "outputs": [],
   "source": [
    "path_to_train ='../input/dogsandcats/Final Data/Train'\n",
    "path_to_test ='../input/dogsandcats/Final Data/Val'"
   ]
  },
  {
   "cell_type": "code",
   "execution_count": 10,
   "id": "64c9ae66",
   "metadata": {
    "execution": {
     "iopub.execute_input": "2021-10-27T15:47:05.576417Z",
     "iopub.status.busy": "2021-10-27T15:47:05.575679Z",
     "iopub.status.idle": "2021-10-27T15:47:05.577693Z",
     "shell.execute_reply": "2021-10-27T15:47:05.578091Z",
     "shell.execute_reply.started": "2021-10-27T14:32:47.108621Z"
    },
    "papermill": {
     "duration": 0.034078,
     "end_time": "2021-10-27T15:47:05.578232",
     "exception": false,
     "start_time": "2021-10-27T15:47:05.544154",
     "status": "completed"
    },
    "tags": []
   },
   "outputs": [],
   "source": [
    "train_classifier_transforms = torchvision.transforms.Compose([\n",
    "    torchvision.transforms.ToTensor(),\n",
    "    torchvision.transforms.Resize((60, 60)),\n",
    "    torchvision.transforms.Normalize(\n",
    "           mean=[0.485, 0.456, 0.406],\n",
    "            std=[0.229, 0.224, 0.225]\n",
    "        )\n",
    "])\n",
    "test_transforms = torchvision.transforms.Compose([\n",
    "    torchvision.transforms.ToTensor(),\n",
    "    torchvision.transforms.Resize((60, 60)),\n",
    "    torchvision.transforms.Normalize(\n",
    "           mean=[0.485, 0.456, 0.406],\n",
    "            std=[0.229, 0.224, 0.225]\n",
    "        )\n",
    "])"
   ]
  },
  {
   "cell_type": "code",
   "execution_count": 11,
   "id": "1447bc2a",
   "metadata": {
    "execution": {
     "iopub.execute_input": "2021-10-27T15:47:05.633158Z",
     "iopub.status.busy": "2021-10-27T15:47:05.632666Z",
     "iopub.status.idle": "2021-10-27T15:47:17.903749Z",
     "shell.execute_reply": "2021-10-27T15:47:17.904270Z",
     "shell.execute_reply.started": "2021-10-27T14:32:47.118546Z"
    },
    "papermill": {
     "duration": 12.300727,
     "end_time": "2021-10-27T15:47:17.904437",
     "exception": false,
     "start_time": "2021-10-27T15:47:05.603710",
     "status": "completed"
    },
    "tags": []
   },
   "outputs": [],
   "source": [
    "train_set = datasets.ImageFolder(root=path_to_train, transform= train_classifier_transforms)\n",
    "test_set = datasets.ImageFolder(root= path_to_test , transform = test_transforms)"
   ]
  },
  {
   "cell_type": "code",
   "execution_count": 12,
   "id": "6e33158a",
   "metadata": {
    "execution": {
     "iopub.execute_input": "2021-10-27T15:47:17.959703Z",
     "iopub.status.busy": "2021-10-27T15:47:17.958874Z",
     "iopub.status.idle": "2021-10-27T15:47:17.963651Z",
     "shell.execute_reply": "2021-10-27T15:47:17.963228Z",
     "shell.execute_reply.started": "2021-10-27T14:32:59.188047Z"
    },
    "papermill": {
     "duration": 0.033251,
     "end_time": "2021-10-27T15:47:17.963760",
     "exception": false,
     "start_time": "2021-10-27T15:47:17.930509",
     "status": "completed"
    },
    "tags": []
   },
   "outputs": [],
   "source": [
    "train_dl = DataLoader(train_set, batch_size=512, shuffle=True)\n",
    "test_dl = DataLoader(test_set, batch_size=512)"
   ]
  },
  {
   "cell_type": "code",
   "execution_count": 13,
   "id": "22e0c675",
   "metadata": {
    "execution": {
     "iopub.execute_input": "2021-10-27T15:47:18.019382Z",
     "iopub.status.busy": "2021-10-27T15:47:18.018625Z",
     "iopub.status.idle": "2021-10-27T15:47:18.020700Z",
     "shell.execute_reply": "2021-10-27T15:47:18.021078Z",
     "shell.execute_reply.started": "2021-10-27T14:32:59.195055Z"
    },
    "papermill": {
     "duration": 0.031866,
     "end_time": "2021-10-27T15:47:18.021237",
     "exception": false,
     "start_time": "2021-10-27T15:47:17.989371",
     "status": "completed"
    },
    "tags": []
   },
   "outputs": [],
   "source": [
    "import pytorch_lightning as pl\n",
    "from pytorch_lightning.core.decorators import auto_move_data"
   ]
  },
  {
   "cell_type": "code",
   "execution_count": 14,
   "id": "64af2dbc",
   "metadata": {
    "execution": {
     "iopub.execute_input": "2021-10-27T15:47:18.080151Z",
     "iopub.status.busy": "2021-10-27T15:47:18.079327Z",
     "iopub.status.idle": "2021-10-27T15:47:18.083883Z",
     "shell.execute_reply": "2021-10-27T15:47:18.084339Z",
     "shell.execute_reply.started": "2021-10-27T14:32:59.205528Z"
    },
    "papermill": {
     "duration": 0.037228,
     "end_time": "2021-10-27T15:47:18.084472",
     "exception": false,
     "start_time": "2021-10-27T15:47:18.047244",
     "status": "completed"
    },
    "tags": []
   },
   "outputs": [
    {
     "name": "stderr",
     "output_type": "stream",
     "text": [
      "/opt/conda/lib/python3.7/site-packages/pytorch_lightning/core/decorators.py:66: LightningDeprecationWarning: The `@auto_move_data` decorator is deprecated in v1.3 and will be removed in v1.5. Please use `trainer.predict` instead for inference. The decorator was applied to `forward`\n",
      "  \"The `@auto_move_data` decorator is deprecated in v1.3 and will be removed in v1.5.\"\n"
     ]
    }
   ],
   "source": [
    "class ResNetMNIST(pl.LightningModule):\n",
    "  def __init__(self):\n",
    "    super().__init__()\n",
    "    self.model = resnet50(num_classes=10)\n",
    "    self.loss = nn.CrossEntropyLoss()\n",
    "\n",
    "  @auto_move_data\n",
    "  def forward(self, x):\n",
    "    return self.model(x)\n",
    "  \n",
    "  def training_step(self, batch, batch_no):\n",
    "    x, y = batch\n",
    "    logits = self(x)\n",
    "    loss = self.loss(logits, y)\n",
    "    return loss\n",
    "  \n",
    "  def configure_optimizers(self):\n",
    "    return torch.optim.RMSprop(self.parameters(), lr=0.005)"
   ]
  },
  {
   "cell_type": "code",
   "execution_count": 15,
   "id": "c4c657ef",
   "metadata": {
    "execution": {
     "iopub.execute_input": "2021-10-27T15:47:18.139402Z",
     "iopub.status.busy": "2021-10-27T15:47:18.138551Z",
     "iopub.status.idle": "2021-10-27T15:47:18.530344Z",
     "shell.execute_reply": "2021-10-27T15:47:18.529837Z",
     "shell.execute_reply.started": "2021-10-27T14:32:59.217866Z"
    },
    "papermill": {
     "duration": 0.420191,
     "end_time": "2021-10-27T15:47:18.530484",
     "exception": false,
     "start_time": "2021-10-27T15:47:18.110293",
     "status": "completed"
    },
    "tags": []
   },
   "outputs": [],
   "source": [
    "model = ResNetMNIST()"
   ]
  },
  {
   "cell_type": "code",
   "execution_count": 16,
   "id": "89468d19",
   "metadata": {
    "execution": {
     "iopub.execute_input": "2021-10-27T15:47:18.628985Z",
     "iopub.status.busy": "2021-10-27T15:47:18.627860Z",
     "iopub.status.idle": "2021-10-27T17:53:15.131696Z",
     "shell.execute_reply": "2021-10-27T17:53:15.131154Z"
    },
    "papermill": {
     "duration": 7556.575248,
     "end_time": "2021-10-27T17:53:15.131833",
     "exception": false,
     "start_time": "2021-10-27T15:47:18.556585",
     "status": "completed"
    },
    "tags": []
   },
   "outputs": [
    {
     "name": "stderr",
     "output_type": "stream",
     "text": [
      "/opt/conda/lib/python3.7/site-packages/pytorch_lightning/trainer/data_loading.py:323: UserWarning: The number of training samples (30) is smaller than the logging interval Trainer(log_every_n_steps=50). Set a lower value for log_every_n_steps if you want to see logs for the training epoch.\n",
      "  f\"The number of training samples ({self.num_training_batches}) is smaller than the logging interval\"\n"
     ]
    },
    {
     "data": {
      "application/vnd.jupyter.widget-view+json": {
       "model_id": "f65591bbb1464c7f9e75bcd34797a927",
       "version_major": 2,
       "version_minor": 0
      },
      "text/plain": [
       "Training: -1it [00:00, ?it/s]"
      ]
     },
     "metadata": {},
     "output_type": "display_data"
    }
   ],
   "source": [
    "trainer = pl.Trainer(\n",
    "    gpus=1,\n",
    "    max_epochs=110,\n",
    "    progress_bar_refresh_rate=20\n",
    ")\n",
    "trainer.fit(model, train_dl)"
   ]
  },
  {
   "cell_type": "code",
   "execution_count": 17,
   "id": "806c6d44",
   "metadata": {
    "execution": {
     "iopub.execute_input": "2021-10-27T17:53:15.191742Z",
     "iopub.status.busy": "2021-10-27T17:53:15.190945Z",
     "iopub.status.idle": "2021-10-27T17:53:15.596613Z",
     "shell.execute_reply": "2021-10-27T17:53:15.595995Z",
     "shell.execute_reply.started": "2021-10-27T15:39:55.441857Z"
    },
    "papermill": {
     "duration": 0.437032,
     "end_time": "2021-10-27T17:53:15.596746",
     "exception": false,
     "start_time": "2021-10-27T17:53:15.159714",
     "status": "completed"
    },
    "tags": []
   },
   "outputs": [],
   "source": [
    "trainer.save_checkpoint(\"resnet50_mnist.pt\")"
   ]
  },
  {
   "cell_type": "code",
   "execution_count": 18,
   "id": "926f1ac2",
   "metadata": {
    "execution": {
     "iopub.execute_input": "2021-10-27T17:53:15.654029Z",
     "iopub.status.busy": "2021-10-27T17:53:15.653243Z",
     "iopub.status.idle": "2021-10-27T17:53:15.657905Z",
     "shell.execute_reply": "2021-10-27T17:53:15.658352Z",
     "shell.execute_reply.started": "2021-10-27T15:39:55.829662Z"
    },
    "papermill": {
     "duration": 0.034896,
     "end_time": "2021-10-27T17:53:15.658489",
     "exception": false,
     "start_time": "2021-10-27T17:53:15.623593",
     "status": "completed"
    },
    "tags": []
   },
   "outputs": [],
   "source": [
    "def get_prediction(x, model: pl.LightningModule):\n",
    "  model.freeze() # prepares model for predicting\n",
    "  probabilities = torch.softmax(model(x), dim=1)\n",
    "  predicted_class = torch.argmax(probabilities, dim=1)\n",
    "  return predicted_class, probabilities"
   ]
  },
  {
   "cell_type": "code",
   "execution_count": 19,
   "id": "e6f5a824",
   "metadata": {
    "execution": {
     "iopub.execute_input": "2021-10-27T17:53:15.715782Z",
     "iopub.status.busy": "2021-10-27T17:53:15.715227Z",
     "iopub.status.idle": "2021-10-27T17:53:15.718621Z",
     "shell.execute_reply": "2021-10-27T17:53:15.718986Z",
     "shell.execute_reply.started": "2021-10-27T15:39:55.836213Z"
    },
    "papermill": {
     "duration": 0.034024,
     "end_time": "2021-10-27T17:53:15.719118",
     "exception": false,
     "start_time": "2021-10-27T17:53:15.685094",
     "status": "completed"
    },
    "tags": []
   },
   "outputs": [],
   "source": [
    "from tqdm.autonotebook import tqdm"
   ]
  },
  {
   "cell_type": "code",
   "execution_count": 20,
   "id": "ec8d8bf0",
   "metadata": {
    "execution": {
     "iopub.execute_input": "2021-10-27T17:53:15.776777Z",
     "iopub.status.busy": "2021-10-27T17:53:15.775948Z",
     "iopub.status.idle": "2021-10-27T17:53:16.273866Z",
     "shell.execute_reply": "2021-10-27T17:53:16.273124Z",
     "shell.execute_reply.started": "2021-10-27T15:39:55.846689Z"
    },
    "papermill": {
     "duration": 0.528315,
     "end_time": "2021-10-27T17:53:16.274001",
     "exception": false,
     "start_time": "2021-10-27T17:53:15.745686",
     "status": "completed"
    },
    "tags": []
   },
   "outputs": [],
   "source": [
    "inference_model = ResNetMNIST.load_from_checkpoint(\"./resnet50_mnist.pt\")"
   ]
  },
  {
   "cell_type": "code",
   "execution_count": 21,
   "id": "75c2bbba",
   "metadata": {
    "execution": {
     "iopub.execute_input": "2021-10-27T17:53:16.333837Z",
     "iopub.status.busy": "2021-10-27T17:53:16.333015Z",
     "iopub.status.idle": "2021-10-27T17:53:54.879332Z",
     "shell.execute_reply": "2021-10-27T17:53:54.879818Z",
     "shell.execute_reply.started": "2021-10-27T15:39:56.345141Z"
    },
    "papermill": {
     "duration": 38.578933,
     "end_time": "2021-10-27T17:53:54.879981",
     "exception": false,
     "start_time": "2021-10-27T17:53:16.301048",
     "status": "completed"
    },
    "tags": []
   },
   "outputs": [
    {
     "data": {
      "application/vnd.jupyter.widget-view+json": {
       "model_id": "9bb5c5fe48624b06b3c9d6207c50e1e9",
       "version_major": 2,
       "version_minor": 0
      },
      "text/plain": [
       "  0%|          | 0/4 [00:00<?, ?it/s]"
      ]
     },
     "metadata": {},
     "output_type": "display_data"
    }
   ],
   "source": [
    "true_y, pred_y = [], []\n",
    "for batch in tqdm(iter(test_dl), total=len(test_dl)):\n",
    "  x, y = batch\n",
    "  true_y.extend(y)\n",
    "  preds, probs = get_prediction(x, inference_model)\n",
    "  pred_y.extend(preds.cpu())"
   ]
  },
  {
   "cell_type": "code",
   "execution_count": 22,
   "id": "a1ee2101",
   "metadata": {
    "execution": {
     "iopub.execute_input": "2021-10-27T17:53:54.939363Z",
     "iopub.status.busy": "2021-10-27T17:53:54.938649Z",
     "iopub.status.idle": "2021-10-27T17:53:55.498878Z",
     "shell.execute_reply": "2021-10-27T17:53:55.498395Z",
     "shell.execute_reply.started": "2021-10-27T15:39:56.872664Z"
    },
    "papermill": {
     "duration": 0.591902,
     "end_time": "2021-10-27T17:53:55.499045",
     "exception": false,
     "start_time": "2021-10-27T17:53:54.907143",
     "status": "completed"
    },
    "tags": []
   },
   "outputs": [],
   "source": [
    "from sklearn.metrics import classification_report"
   ]
  },
  {
   "cell_type": "code",
   "execution_count": 23,
   "id": "f5bc325b",
   "metadata": {
    "execution": {
     "iopub.execute_input": "2021-10-27T17:53:55.563215Z",
     "iopub.status.busy": "2021-10-27T17:53:55.562419Z",
     "iopub.status.idle": "2021-10-27T17:53:55.602413Z",
     "shell.execute_reply": "2021-10-27T17:53:55.603077Z",
     "shell.execute_reply.started": "2021-10-27T15:39:56.875216Z"
    },
    "papermill": {
     "duration": 0.076858,
     "end_time": "2021-10-27T17:53:55.603288",
     "exception": false,
     "start_time": "2021-10-27T17:53:55.526430",
     "status": "completed"
    },
    "tags": []
   },
   "outputs": [
    {
     "name": "stdout",
     "output_type": "stream",
     "text": [
      "              precision    recall  f1-score   support\n",
      "\n",
      "           0       0.83      0.69      0.75       402\n",
      "           1       0.69      0.76      0.72       403\n",
      "           2       0.69      0.82      0.75       404\n",
      "           3       0.76      0.66      0.71       403\n",
      "\n",
      "    accuracy                           0.73      1612\n",
      "   macro avg       0.74      0.73      0.73      1612\n",
      "weighted avg       0.74      0.73      0.73      1612\n",
      "\n"
     ]
    }
   ],
   "source": [
    "print(classification_report(true_y, pred_y, digits=2))"
   ]
  },
  {
   "cell_type": "code",
   "execution_count": null,
   "id": "7ffa1657",
   "metadata": {
    "papermill": {
     "duration": 0.027149,
     "end_time": "2021-10-27T17:53:55.658276",
     "exception": false,
     "start_time": "2021-10-27T17:53:55.631127",
     "status": "completed"
    },
    "tags": []
   },
   "outputs": [],
   "source": []
  }
 ],
 "metadata": {
  "kernelspec": {
   "display_name": "Python 3",
   "language": "python",
   "name": "python3"
  },
  "language_info": {
   "codemirror_mode": {
    "name": "ipython",
    "version": 3
   },
   "file_extension": ".py",
   "mimetype": "text/x-python",
   "name": "python",
   "nbconvert_exporter": "python",
   "pygments_lexer": "ipython3",
   "version": "3.7.10"
  },
  "papermill": {
   "default_parameters": {},
   "duration": 7639.595652,
   "end_time": "2021-10-27T17:53:59.246149",
   "environment_variables": {},
   "exception": null,
   "input_path": "__notebook__.ipynb",
   "output_path": "__notebook__.ipynb",
   "parameters": {},
   "start_time": "2021-10-27T15:46:39.650497",
   "version": "2.3.3"
  },
  "widgets": {
   "application/vnd.jupyter.widget-state+json": {
    "state": {
     "05573cf29dda4fef9fc5bfa2df6be4b6": {
      "model_module": "@jupyter-widgets/controls",
      "model_module_version": "1.5.0",
      "model_name": "DescriptionStyleModel",
      "state": {
       "_model_module": "@jupyter-widgets/controls",
       "_model_module_version": "1.5.0",
       "_model_name": "DescriptionStyleModel",
       "_view_count": null,
       "_view_module": "@jupyter-widgets/base",
       "_view_module_version": "1.2.0",
       "_view_name": "StyleView",
       "description_width": ""
      }
     },
     "07c64cb04aaa431fb817f5910b536700": {
      "model_module": "@jupyter-widgets/controls",
      "model_module_version": "1.5.0",
      "model_name": "HTMLModel",
      "state": {
       "_dom_classes": [],
       "_model_module": "@jupyter-widgets/controls",
       "_model_module_version": "1.5.0",
       "_model_name": "HTMLModel",
       "_view_count": null,
       "_view_module": "@jupyter-widgets/controls",
       "_view_module_version": "1.5.0",
       "_view_name": "HTMLView",
       "description": "",
       "description_tooltip": null,
       "layout": "IPY_MODEL_116c59c92b8c44d7914b93f4e7d406fc",
       "placeholder": "​",
       "style": "IPY_MODEL_05573cf29dda4fef9fc5bfa2df6be4b6",
       "value": "Epoch 109: 100%"
      }
     },
     "104d93764f5c4dcd90a6ffb5561841fe": {
      "model_module": "@jupyter-widgets/controls",
      "model_module_version": "1.5.0",
      "model_name": "FloatProgressModel",
      "state": {
       "_dom_classes": [],
       "_model_module": "@jupyter-widgets/controls",
       "_model_module_version": "1.5.0",
       "_model_name": "FloatProgressModel",
       "_view_count": null,
       "_view_module": "@jupyter-widgets/controls",
       "_view_module_version": "1.5.0",
       "_view_name": "ProgressView",
       "bar_style": "success",
       "description": "",
       "description_tooltip": null,
       "layout": "IPY_MODEL_6c44cb4d0eab4e70a767187cf1ef2e1d",
       "max": 30.0,
       "min": 0.0,
       "orientation": "horizontal",
       "style": "IPY_MODEL_ed6c73ecdd184eeda6da2baf22888591",
       "value": 30.0
      }
     },
     "116c59c92b8c44d7914b93f4e7d406fc": {
      "model_module": "@jupyter-widgets/base",
      "model_module_version": "1.2.0",
      "model_name": "LayoutModel",
      "state": {
       "_model_module": "@jupyter-widgets/base",
       "_model_module_version": "1.2.0",
       "_model_name": "LayoutModel",
       "_view_count": null,
       "_view_module": "@jupyter-widgets/base",
       "_view_module_version": "1.2.0",
       "_view_name": "LayoutView",
       "align_content": null,
       "align_items": null,
       "align_self": null,
       "border": null,
       "bottom": null,
       "display": null,
       "flex": null,
       "flex_flow": null,
       "grid_area": null,
       "grid_auto_columns": null,
       "grid_auto_flow": null,
       "grid_auto_rows": null,
       "grid_column": null,
       "grid_gap": null,
       "grid_row": null,
       "grid_template_areas": null,
       "grid_template_columns": null,
       "grid_template_rows": null,
       "height": null,
       "justify_content": null,
       "justify_items": null,
       "left": null,
       "margin": null,
       "max_height": null,
       "max_width": null,
       "min_height": null,
       "min_width": null,
       "object_fit": null,
       "object_position": null,
       "order": null,
       "overflow": null,
       "overflow_x": null,
       "overflow_y": null,
       "padding": null,
       "right": null,
       "top": null,
       "visibility": null,
       "width": null
      }
     },
     "3f3d295fca58451d890fb352595e5cef": {
      "model_module": "@jupyter-widgets/controls",
      "model_module_version": "1.5.0",
      "model_name": "FloatProgressModel",
      "state": {
       "_dom_classes": [],
       "_model_module": "@jupyter-widgets/controls",
       "_model_module_version": "1.5.0",
       "_model_name": "FloatProgressModel",
       "_view_count": null,
       "_view_module": "@jupyter-widgets/controls",
       "_view_module_version": "1.5.0",
       "_view_name": "ProgressView",
       "bar_style": "success",
       "description": "",
       "description_tooltip": null,
       "layout": "IPY_MODEL_551157f24a144920864c218570a5ca32",
       "max": 4.0,
       "min": 0.0,
       "orientation": "horizontal",
       "style": "IPY_MODEL_5ad7fdd9b7bf492d9ccd20afc8c0af1b",
       "value": 4.0
      }
     },
     "551157f24a144920864c218570a5ca32": {
      "model_module": "@jupyter-widgets/base",
      "model_module_version": "1.2.0",
      "model_name": "LayoutModel",
      "state": {
       "_model_module": "@jupyter-widgets/base",
       "_model_module_version": "1.2.0",
       "_model_name": "LayoutModel",
       "_view_count": null,
       "_view_module": "@jupyter-widgets/base",
       "_view_module_version": "1.2.0",
       "_view_name": "LayoutView",
       "align_content": null,
       "align_items": null,
       "align_self": null,
       "border": null,
       "bottom": null,
       "display": null,
       "flex": null,
       "flex_flow": null,
       "grid_area": null,
       "grid_auto_columns": null,
       "grid_auto_flow": null,
       "grid_auto_rows": null,
       "grid_column": null,
       "grid_gap": null,
       "grid_row": null,
       "grid_template_areas": null,
       "grid_template_columns": null,
       "grid_template_rows": null,
       "height": null,
       "justify_content": null,
       "justify_items": null,
       "left": null,
       "margin": null,
       "max_height": null,
       "max_width": null,
       "min_height": null,
       "min_width": null,
       "object_fit": null,
       "object_position": null,
       "order": null,
       "overflow": null,
       "overflow_x": null,
       "overflow_y": null,
       "padding": null,
       "right": null,
       "top": null,
       "visibility": null,
       "width": null
      }
     },
     "5ad7fdd9b7bf492d9ccd20afc8c0af1b": {
      "model_module": "@jupyter-widgets/controls",
      "model_module_version": "1.5.0",
      "model_name": "ProgressStyleModel",
      "state": {
       "_model_module": "@jupyter-widgets/controls",
       "_model_module_version": "1.5.0",
       "_model_name": "ProgressStyleModel",
       "_view_count": null,
       "_view_module": "@jupyter-widgets/base",
       "_view_module_version": "1.2.0",
       "_view_name": "StyleView",
       "bar_color": null,
       "description_width": ""
      }
     },
     "6c44cb4d0eab4e70a767187cf1ef2e1d": {
      "model_module": "@jupyter-widgets/base",
      "model_module_version": "1.2.0",
      "model_name": "LayoutModel",
      "state": {
       "_model_module": "@jupyter-widgets/base",
       "_model_module_version": "1.2.0",
       "_model_name": "LayoutModel",
       "_view_count": null,
       "_view_module": "@jupyter-widgets/base",
       "_view_module_version": "1.2.0",
       "_view_name": "LayoutView",
       "align_content": null,
       "align_items": null,
       "align_self": null,
       "border": null,
       "bottom": null,
       "display": null,
       "flex": "2",
       "flex_flow": null,
       "grid_area": null,
       "grid_auto_columns": null,
       "grid_auto_flow": null,
       "grid_auto_rows": null,
       "grid_column": null,
       "grid_gap": null,
       "grid_row": null,
       "grid_template_areas": null,
       "grid_template_columns": null,
       "grid_template_rows": null,
       "height": null,
       "justify_content": null,
       "justify_items": null,
       "left": null,
       "margin": null,
       "max_height": null,
       "max_width": null,
       "min_height": null,
       "min_width": null,
       "object_fit": null,
       "object_position": null,
       "order": null,
       "overflow": null,
       "overflow_x": null,
       "overflow_y": null,
       "padding": null,
       "right": null,
       "top": null,
       "visibility": null,
       "width": null
      }
     },
     "801c1519d1664709bf09cad6a53fb354": {
      "model_module": "@jupyter-widgets/base",
      "model_module_version": "1.2.0",
      "model_name": "LayoutModel",
      "state": {
       "_model_module": "@jupyter-widgets/base",
       "_model_module_version": "1.2.0",
       "_model_name": "LayoutModel",
       "_view_count": null,
       "_view_module": "@jupyter-widgets/base",
       "_view_module_version": "1.2.0",
       "_view_name": "LayoutView",
       "align_content": null,
       "align_items": null,
       "align_self": null,
       "border": null,
       "bottom": null,
       "display": "inline-flex",
       "flex": null,
       "flex_flow": "row wrap",
       "grid_area": null,
       "grid_auto_columns": null,
       "grid_auto_flow": null,
       "grid_auto_rows": null,
       "grid_column": null,
       "grid_gap": null,
       "grid_row": null,
       "grid_template_areas": null,
       "grid_template_columns": null,
       "grid_template_rows": null,
       "height": null,
       "justify_content": null,
       "justify_items": null,
       "left": null,
       "margin": null,
       "max_height": null,
       "max_width": null,
       "min_height": null,
       "min_width": null,
       "object_fit": null,
       "object_position": null,
       "order": null,
       "overflow": null,
       "overflow_x": null,
       "overflow_y": null,
       "padding": null,
       "right": null,
       "top": null,
       "visibility": null,
       "width": "100%"
      }
     },
     "8931a999751c4240bbfc291b8a5497e6": {
      "model_module": "@jupyter-widgets/controls",
      "model_module_version": "1.5.0",
      "model_name": "HTMLModel",
      "state": {
       "_dom_classes": [],
       "_model_module": "@jupyter-widgets/controls",
       "_model_module_version": "1.5.0",
       "_model_name": "HTMLModel",
       "_view_count": null,
       "_view_module": "@jupyter-widgets/controls",
       "_view_module_version": "1.5.0",
       "_view_name": "HTMLView",
       "description": "",
       "description_tooltip": null,
       "layout": "IPY_MODEL_d9a3a9eb236749fa84943838b019c5e6",
       "placeholder": "​",
       "style": "IPY_MODEL_a083231ece7b47e2bdc9c86011a6b6b5",
       "value": " 30/30 [01:09&lt;00:00,  2.23s/it, loss=0.000199, v_num=0]"
      }
     },
     "9bb5c5fe48624b06b3c9d6207c50e1e9": {
      "model_module": "@jupyter-widgets/controls",
      "model_module_version": "1.5.0",
      "model_name": "HBoxModel",
      "state": {
       "_dom_classes": [],
       "_model_module": "@jupyter-widgets/controls",
       "_model_module_version": "1.5.0",
       "_model_name": "HBoxModel",
       "_view_count": null,
       "_view_module": "@jupyter-widgets/controls",
       "_view_module_version": "1.5.0",
       "_view_name": "HBoxView",
       "box_style": "",
       "children": [
        "IPY_MODEL_b018982294384cde87427ef873921e39",
        "IPY_MODEL_3f3d295fca58451d890fb352595e5cef",
        "IPY_MODEL_dec0b8a2d0ce40f0bf49780fb9309493"
       ],
       "layout": "IPY_MODEL_a4cdae9125b74431aed88f01069cb4fc"
      }
     },
     "a083231ece7b47e2bdc9c86011a6b6b5": {
      "model_module": "@jupyter-widgets/controls",
      "model_module_version": "1.5.0",
      "model_name": "DescriptionStyleModel",
      "state": {
       "_model_module": "@jupyter-widgets/controls",
       "_model_module_version": "1.5.0",
       "_model_name": "DescriptionStyleModel",
       "_view_count": null,
       "_view_module": "@jupyter-widgets/base",
       "_view_module_version": "1.2.0",
       "_view_name": "StyleView",
       "description_width": ""
      }
     },
     "a4cdae9125b74431aed88f01069cb4fc": {
      "model_module": "@jupyter-widgets/base",
      "model_module_version": "1.2.0",
      "model_name": "LayoutModel",
      "state": {
       "_model_module": "@jupyter-widgets/base",
       "_model_module_version": "1.2.0",
       "_model_name": "LayoutModel",
       "_view_count": null,
       "_view_module": "@jupyter-widgets/base",
       "_view_module_version": "1.2.0",
       "_view_name": "LayoutView",
       "align_content": null,
       "align_items": null,
       "align_self": null,
       "border": null,
       "bottom": null,
       "display": null,
       "flex": null,
       "flex_flow": null,
       "grid_area": null,
       "grid_auto_columns": null,
       "grid_auto_flow": null,
       "grid_auto_rows": null,
       "grid_column": null,
       "grid_gap": null,
       "grid_row": null,
       "grid_template_areas": null,
       "grid_template_columns": null,
       "grid_template_rows": null,
       "height": null,
       "justify_content": null,
       "justify_items": null,
       "left": null,
       "margin": null,
       "max_height": null,
       "max_width": null,
       "min_height": null,
       "min_width": null,
       "object_fit": null,
       "object_position": null,
       "order": null,
       "overflow": null,
       "overflow_x": null,
       "overflow_y": null,
       "padding": null,
       "right": null,
       "top": null,
       "visibility": null,
       "width": null
      }
     },
     "b018982294384cde87427ef873921e39": {
      "model_module": "@jupyter-widgets/controls",
      "model_module_version": "1.5.0",
      "model_name": "HTMLModel",
      "state": {
       "_dom_classes": [],
       "_model_module": "@jupyter-widgets/controls",
       "_model_module_version": "1.5.0",
       "_model_name": "HTMLModel",
       "_view_count": null,
       "_view_module": "@jupyter-widgets/controls",
       "_view_module_version": "1.5.0",
       "_view_name": "HTMLView",
       "description": "",
       "description_tooltip": null,
       "layout": "IPY_MODEL_e51ffaa1a34e4f378074a97b05e020ff",
       "placeholder": "​",
       "style": "IPY_MODEL_d96615397e9947a48614334938958568",
       "value": "100%"
      }
     },
     "c7ee89aa3b1f461f9b37cb7f0de17972": {
      "model_module": "@jupyter-widgets/base",
      "model_module_version": "1.2.0",
      "model_name": "LayoutModel",
      "state": {
       "_model_module": "@jupyter-widgets/base",
       "_model_module_version": "1.2.0",
       "_model_name": "LayoutModel",
       "_view_count": null,
       "_view_module": "@jupyter-widgets/base",
       "_view_module_version": "1.2.0",
       "_view_name": "LayoutView",
       "align_content": null,
       "align_items": null,
       "align_self": null,
       "border": null,
       "bottom": null,
       "display": null,
       "flex": null,
       "flex_flow": null,
       "grid_area": null,
       "grid_auto_columns": null,
       "grid_auto_flow": null,
       "grid_auto_rows": null,
       "grid_column": null,
       "grid_gap": null,
       "grid_row": null,
       "grid_template_areas": null,
       "grid_template_columns": null,
       "grid_template_rows": null,
       "height": null,
       "justify_content": null,
       "justify_items": null,
       "left": null,
       "margin": null,
       "max_height": null,
       "max_width": null,
       "min_height": null,
       "min_width": null,
       "object_fit": null,
       "object_position": null,
       "order": null,
       "overflow": null,
       "overflow_x": null,
       "overflow_y": null,
       "padding": null,
       "right": null,
       "top": null,
       "visibility": null,
       "width": null
      }
     },
     "d96615397e9947a48614334938958568": {
      "model_module": "@jupyter-widgets/controls",
      "model_module_version": "1.5.0",
      "model_name": "DescriptionStyleModel",
      "state": {
       "_model_module": "@jupyter-widgets/controls",
       "_model_module_version": "1.5.0",
       "_model_name": "DescriptionStyleModel",
       "_view_count": null,
       "_view_module": "@jupyter-widgets/base",
       "_view_module_version": "1.2.0",
       "_view_name": "StyleView",
       "description_width": ""
      }
     },
     "d9a3a9eb236749fa84943838b019c5e6": {
      "model_module": "@jupyter-widgets/base",
      "model_module_version": "1.2.0",
      "model_name": "LayoutModel",
      "state": {
       "_model_module": "@jupyter-widgets/base",
       "_model_module_version": "1.2.0",
       "_model_name": "LayoutModel",
       "_view_count": null,
       "_view_module": "@jupyter-widgets/base",
       "_view_module_version": "1.2.0",
       "_view_name": "LayoutView",
       "align_content": null,
       "align_items": null,
       "align_self": null,
       "border": null,
       "bottom": null,
       "display": null,
       "flex": null,
       "flex_flow": null,
       "grid_area": null,
       "grid_auto_columns": null,
       "grid_auto_flow": null,
       "grid_auto_rows": null,
       "grid_column": null,
       "grid_gap": null,
       "grid_row": null,
       "grid_template_areas": null,
       "grid_template_columns": null,
       "grid_template_rows": null,
       "height": null,
       "justify_content": null,
       "justify_items": null,
       "left": null,
       "margin": null,
       "max_height": null,
       "max_width": null,
       "min_height": null,
       "min_width": null,
       "object_fit": null,
       "object_position": null,
       "order": null,
       "overflow": null,
       "overflow_x": null,
       "overflow_y": null,
       "padding": null,
       "right": null,
       "top": null,
       "visibility": null,
       "width": null
      }
     },
     "dec0b8a2d0ce40f0bf49780fb9309493": {
      "model_module": "@jupyter-widgets/controls",
      "model_module_version": "1.5.0",
      "model_name": "HTMLModel",
      "state": {
       "_dom_classes": [],
       "_model_module": "@jupyter-widgets/controls",
       "_model_module_version": "1.5.0",
       "_model_name": "HTMLModel",
       "_view_count": null,
       "_view_module": "@jupyter-widgets/controls",
       "_view_module_version": "1.5.0",
       "_view_name": "HTMLView",
       "description": "",
       "description_tooltip": null,
       "layout": "IPY_MODEL_c7ee89aa3b1f461f9b37cb7f0de17972",
       "placeholder": "​",
       "style": "IPY_MODEL_f01862bcf7764a44ac026e54d2097eab",
       "value": " 4/4 [00:38&lt;00:00,  8.14s/it]"
      }
     },
     "e51ffaa1a34e4f378074a97b05e020ff": {
      "model_module": "@jupyter-widgets/base",
      "model_module_version": "1.2.0",
      "model_name": "LayoutModel",
      "state": {
       "_model_module": "@jupyter-widgets/base",
       "_model_module_version": "1.2.0",
       "_model_name": "LayoutModel",
       "_view_count": null,
       "_view_module": "@jupyter-widgets/base",
       "_view_module_version": "1.2.0",
       "_view_name": "LayoutView",
       "align_content": null,
       "align_items": null,
       "align_self": null,
       "border": null,
       "bottom": null,
       "display": null,
       "flex": null,
       "flex_flow": null,
       "grid_area": null,
       "grid_auto_columns": null,
       "grid_auto_flow": null,
       "grid_auto_rows": null,
       "grid_column": null,
       "grid_gap": null,
       "grid_row": null,
       "grid_template_areas": null,
       "grid_template_columns": null,
       "grid_template_rows": null,
       "height": null,
       "justify_content": null,
       "justify_items": null,
       "left": null,
       "margin": null,
       "max_height": null,
       "max_width": null,
       "min_height": null,
       "min_width": null,
       "object_fit": null,
       "object_position": null,
       "order": null,
       "overflow": null,
       "overflow_x": null,
       "overflow_y": null,
       "padding": null,
       "right": null,
       "top": null,
       "visibility": null,
       "width": null
      }
     },
     "ed6c73ecdd184eeda6da2baf22888591": {
      "model_module": "@jupyter-widgets/controls",
      "model_module_version": "1.5.0",
      "model_name": "ProgressStyleModel",
      "state": {
       "_model_module": "@jupyter-widgets/controls",
       "_model_module_version": "1.5.0",
       "_model_name": "ProgressStyleModel",
       "_view_count": null,
       "_view_module": "@jupyter-widgets/base",
       "_view_module_version": "1.2.0",
       "_view_name": "StyleView",
       "bar_color": null,
       "description_width": ""
      }
     },
     "f01862bcf7764a44ac026e54d2097eab": {
      "model_module": "@jupyter-widgets/controls",
      "model_module_version": "1.5.0",
      "model_name": "DescriptionStyleModel",
      "state": {
       "_model_module": "@jupyter-widgets/controls",
       "_model_module_version": "1.5.0",
       "_model_name": "DescriptionStyleModel",
       "_view_count": null,
       "_view_module": "@jupyter-widgets/base",
       "_view_module_version": "1.2.0",
       "_view_name": "StyleView",
       "description_width": ""
      }
     },
     "f65591bbb1464c7f9e75bcd34797a927": {
      "model_module": "@jupyter-widgets/controls",
      "model_module_version": "1.5.0",
      "model_name": "HBoxModel",
      "state": {
       "_dom_classes": [],
       "_model_module": "@jupyter-widgets/controls",
       "_model_module_version": "1.5.0",
       "_model_name": "HBoxModel",
       "_view_count": null,
       "_view_module": "@jupyter-widgets/controls",
       "_view_module_version": "1.5.0",
       "_view_name": "HBoxView",
       "box_style": "",
       "children": [
        "IPY_MODEL_07c64cb04aaa431fb817f5910b536700",
        "IPY_MODEL_104d93764f5c4dcd90a6ffb5561841fe",
        "IPY_MODEL_8931a999751c4240bbfc291b8a5497e6"
       ],
       "layout": "IPY_MODEL_801c1519d1664709bf09cad6a53fb354"
      }
     }
    },
    "version_major": 2,
    "version_minor": 0
   }
  }
 },
 "nbformat": 4,
 "nbformat_minor": 5
}
